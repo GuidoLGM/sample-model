{
 "cells": [
  {
   "cell_type": "markdown",
   "metadata": {},
   "source": [
    "### Load Config File"
   ]
  },
  {
   "cell_type": "code",
   "execution_count": 83,
   "metadata": {},
   "outputs": [],
   "source": [
    "import yaml\n",
    "from box import ConfigBox\n",
    "\n",
    "\n",
    "with open(\"config.yaml\", \"r\") as ymlfile:\n",
    "    config = yaml.safe_load(ymlfile)\n",
    "\n",
    "config = ConfigBox(config)"
   ]
  },
  {
   "cell_type": "markdown",
   "metadata": {},
   "source": [
    "### Imports"
   ]
  },
  {
   "cell_type": "code",
   "execution_count": 84,
   "metadata": {},
   "outputs": [],
   "source": [
    "from google.cloud import aiplatform\n",
    "from google.cloud.aiplatform import pipeline_jobs\n",
    "\n",
    "from typing import NamedTuple\n",
    "\n",
    "from kfp.dsl import component\n",
    "from kfp.dsl import pipeline\n",
    "from kfp import compiler\n",
    "from kfp.dsl import (Artifact, Model, Dataset, Input, Output, Metrics)\n",
    "from kfp import dsl"
   ]
  },
  {
   "cell_type": "markdown",
   "metadata": {},
   "source": [
    "### Components"
   ]
  },
  {
   "cell_type": "code",
   "execution_count": 85,
   "metadata": {},
   "outputs": [],
   "source": [
    "@component(\n",
    "    base_image=\"python:3.11-slim\",\n",
    "    packages_to_install=[\n",
    "        config.packages.BIGQUERY, \n",
    "        config.packages.PANDAS,\n",
    "        config.packages.DB_TYPES\n",
    "    ]\n",
    ")\n",
    "def fetch_big_data_table(\n",
    "    project_id: str,\n",
    "    dataset_id: str,\n",
    "    table_id: str,\n",
    "    dataset_artifact: Output[Dataset]\n",
    "):\n",
    "    \n",
    "    from google.cloud import bigquery\n",
    "\n",
    "    client = bigquery.Client(project=project_id)\n",
    "    \n",
    "    query = f\"\"\"\n",
    "        SELECT *\n",
    "        FROM `{project_id}.{dataset_id}.{table_id}`\n",
    "        \"\"\"\n",
    "    \n",
    "    data = client.query(query).to_dataframe()\n",
    "    \n",
    "    data.to_csv(dataset_artifact.path, index=False)\n",
    "    "
   ]
  },
  {
   "cell_type": "code",
   "execution_count": 86,
   "metadata": {},
   "outputs": [],
   "source": [
    "@component(\n",
    "    base_image=\"southamerica-east1-docker.pkg.dev/pebolas-sandbox/sample-model/prepare_data:latest\"\n",
    ")\n",
    "def prepare_data(\n",
    "    input_data: Input[Dataset],\n",
    "    dataset_artifact: Output[Dataset]\n",
    "    \n",
    "):\n",
    "    \n",
    "    import pandas as pd\n",
    "    \n",
    "    data = pd.read_csv(input_data.path, index_col=False)\n",
    "    \n",
    "    data.Age = data.Age.fillna(data.Age.mean())\n",
    "\n",
    "    data.Embarked = data.Embarked.fillna(\n",
    "        data.Embarked.mode()[0]\n",
    "    )\n",
    "\n",
    "    data.drop(columns=[\"Cabin\", \"Name\", \"Ticket\"], inplace=True)\n",
    "\n",
    "    data.Sex = data.Sex.map({\"male\": 0, \"female\": 1})\n",
    "\n",
    "    data = pd.get_dummies(\n",
    "        data, columns=[\"Embarked\"], drop_first=True\n",
    "    )\n",
    "    \n",
    "    data.to_csv(dataset_artifact.path, index=False)\n",
    "\n",
    "    \n",
    "    "
   ]
  },
  {
   "cell_type": "code",
   "execution_count": 87,
   "metadata": {},
   "outputs": [],
   "source": [
    "@component(\n",
    "    base_image=\"python:3.11-slim\",\n",
    "    packages_to_install=[\n",
    "        config.packages.SKLEARN, \n",
    "        config.packages.PANDAS,\n",
    "        config.packages.DB_TYPES\n",
    "    ]\n",
    ")\n",
    "def scale_data(\n",
    "    input_data: Input[Dataset],\n",
    "    scaler_artifact: Output[Artifact],\n",
    "    dataset_artifact: Output[Dataset]\n",
    "):\n",
    "    \n",
    "    import pickle as pkl\n",
    "    import pandas as pd\n",
    "    from sklearn.preprocessing import StandardScaler\n",
    "    \n",
    "    data = pd.read_csv(input_data.path, index_col=False)\n",
    "    \n",
    "    scaler = StandardScaler()\n",
    "    \n",
    "    column_to_scale = [\"Age\", \"Fare\"]\n",
    "    data[column_to_scale] = scaler.fit_transform(\n",
    "            data[column_to_scale]\n",
    "        )\n",
    "    \n",
    "    with open(scaler_artifact.path, \"wb\") as f:\n",
    "        pkl.dump(scaler, f)\n",
    "        \n",
    "    data.to_csv(dataset_artifact.path, index=False)\n",
    "    "
   ]
  },
  {
   "cell_type": "code",
   "execution_count": null,
   "metadata": {},
   "outputs": [],
   "source": [
    "@component(\n",
    "    base_image=\"python:3.11-slim\",\n",
    "    packages_to_install=[\n",
    "        config.packages.AIPLATFORM\n",
    "    ]\n",
    ")\n",
    "def create_dataset(\n",
    "    project_id: str,\n",
    "    display_name: str,\n",
    "    dataset: Input[Dataset]\n",
    ") -> aiplatform.TabularDataset:\n",
    "    from google.cloud import aiplatform\n",
    "    \n",
    "    \n",
    "    aiplatform.init(project_id=project_id)\n",
    "    \n",
    "    \n",
    "    data = aiplatform.TabularDataset.create(\n",
    "        display_name=display_name,\n",
    "        bq_source=dataset.uri\n",
    "    )\n",
    "    \n",
    "    return data\n",
    "    "
   ]
  },
  {
   "cell_type": "code",
   "execution_count": 88,
   "metadata": {},
   "outputs": [],
   "source": [
    "@component(\n",
    "    base_image=\"python:3.11-slim\",\n",
    "    packages_to_install=[\n",
    "        config.packages.SKLEARN,\n",
    "        config.packages.PANDAS,\n",
    "        config.packages.DB_TYPES\n",
    "    ]\n",
    ")\n",
    "def split_train_test(\n",
    "    input_data: Input[Dataset],\n",
    "    dataset_train: Output[Artifact],\n",
    "    dataset_test: Output[Artifact]\n",
    "):\n",
    "    import pickle as pkl\n",
    "    import pandas as pd\n",
    "    from sklearn import model_selection\n",
    "    \n",
    "    data = pd.read_csv(input_data.path, index_col=False)\n",
    "    \n",
    "    x_train, x_test, y_train, y_test = model_selection.train_test_split(\n",
    "        data.drop(columns=[\"Survived\"]),\n",
    "        data.Survived,\n",
    "        test_size=0.2,\n",
    "        random_state=42\n",
    "    )\n",
    "    \n",
    "    x_train_results = {'x_train': x_train, 'y_train': y_train}\n",
    "    x_test_results = {'x_test': x_test, 'y_test': y_test}\n",
    "    \n",
    "    with open(dataset_train.path, \"wb\") as f:\n",
    "        pkl.dump(x_train_results, f)\n",
    "        \n",
    "    with open(dataset_test.path, \"wb\") as f:\n",
    "        pkl.dump(x_test_results, f)\n",
    "    "
   ]
  },
  {
   "cell_type": "code",
   "execution_count": 89,
   "metadata": {},
   "outputs": [],
   "source": [
    "@component(\n",
    "    base_image=\"python:3.11-slim\",\n",
    "    packages_to_install=[\n",
    "        config.packages.SKLEARN,\n",
    "        config.packages.PANDAS,\n",
    "        config.packages.DB_TYPES\n",
    "    ]\n",
    ")\n",
    "def train_model(\n",
    "    train_data: Input[Artifact],\n",
    "    test_data: Input[Artifact],\n",
    "    model: Output[Model],\n",
    "    metrics_artifact: Output[Metrics]\n",
    "):\n",
    "    import pickle as pkl\n",
    "    from sklearn.linear_model import LogisticRegression\n",
    "    from sklearn.metrics import f1_score, accuracy_score\n",
    "    \n",
    "    \n",
    "    with open(train_data.path, \"rb\") as f:\n",
    "        data = pkl.load(f)\n",
    "        \n",
    "    X_train = data['x_train']\n",
    "    y_train = data['y_train']\n",
    "    \n",
    "    lr = LogisticRegression()\n",
    "    lr.fit(X_train, y_train)\n",
    "    \n",
    "    \n",
    "    with open(test_data.path, \"rb\") as f:\n",
    "        data = pkl.load(f)\n",
    "        \n",
    "    X_test = data['x_test']\n",
    "    y_test = data['y_test']\n",
    "    \n",
    "    predictions = lr.predict(X_test)\n",
    "    \n",
    "    metrics_artifact.log_metric(\"f1_score\", f1_score(y_test, predictions))\n",
    "    metrics_artifact.log_metric(\"accuracy\", accuracy_score(y_test, predictions))\n",
    "\n",
    "    with open(model.path, \"wb\") as f:\n",
    "        pkl.dump(lr, f)"
   ]
  },
  {
   "cell_type": "code",
   "execution_count": 90,
   "metadata": {},
   "outputs": [
    {
     "name": "stderr",
     "output_type": "stream",
     "text": [
      "/usr/local/lib/python3.11/site-packages/kfp/dsl/component_decorator.py:121: FutureWarning: The default base_image used by the @dsl.component decorator will switch from 'python:3.8' to 'python:3.9' on Oct 1, 2024. To ensure your existing components work with versions of the KFP SDK released after that date, you should provide an explicit base_image argument and ensure your component works as intended on Python 3.9.\n",
      "  return component_factory.create_component_from_func(\n"
     ]
    }
   ],
   "source": [
    "@component()\n",
    "def fetch_curr_model_metrics() -> float:\n",
    "    \n",
    "    return 0.7"
   ]
  },
  {
   "cell_type": "code",
   "execution_count": 91,
   "metadata": {},
   "outputs": [],
   "source": [
    "@component()\n",
    "def fetch_training_metrics(\n",
    "    metrics_artifcat: Input[Metrics]\n",
    ") -> float:\n",
    "        \n",
    "    return metrics_artifcat.metadata['f1_score']\n",
    "    "
   ]
  },
  {
   "cell_type": "code",
   "execution_count": 92,
   "metadata": {},
   "outputs": [],
   "source": [
    "@component(\n",
    "        base_image=\"python:3.11-slim\",\n",
    "    packages_to_install=[\n",
    "        config.packages.SKLEARN\n",
    "    ]\n",
    "    \n",
    ")\n",
    "def deploy_model(\n",
    "    model_artifact: Input[Model],\n",
    "    scaler_artifact: Input[Artifact]\n",
    "):\n",
    "    import pickle as pkl\n",
    "    \n",
    "    with open(model_artifact.path, \"rb\") as f:\n",
    "        model = pkl.load(f)\n",
    "        \n",
    "    with open(scaler_artifact.path, \"rb\") as f:\n",
    "        scaler = pkl.load(f)\n",
    "        \n",
    "    print(model)\n",
    "    print(scaler)\n",
    "    print(\"Model Deployed\")"
   ]
  },
  {
   "cell_type": "code",
   "execution_count": 98,
   "metadata": {},
   "outputs": [
    {
     "ename": "AttributeError",
     "evalue": "'PipelineArtifactChannel' object has no attribute 'metadata'",
     "output_type": "error",
     "traceback": [
      "\u001b[0;31m---------------------------------------------------------------------------\u001b[0m",
      "\u001b[0;31mAttributeError\u001b[0m                            Traceback (most recent call last)",
      "Cell \u001b[0;32mIn[98], line 1\u001b[0m\n\u001b[0;32m----> 1\u001b[0m \u001b[38;5;129;43m@pipeline\u001b[39;49m\u001b[43m(\u001b[49m\n\u001b[1;32m      2\u001b[0m \u001b[43m    \u001b[49m\u001b[43mname\u001b[49m\u001b[38;5;241;43m=\u001b[39;49m\u001b[43mconfig\u001b[49m\u001b[38;5;241;43m.\u001b[39;49m\u001b[43mpipeline\u001b[49m\u001b[38;5;241;43m.\u001b[39;49m\u001b[43mname\u001b[49m\u001b[43m,\u001b[49m\n\u001b[1;32m      3\u001b[0m \u001b[43m    \u001b[49m\u001b[43mdescription\u001b[49m\u001b[38;5;241;43m=\u001b[39;49m\u001b[43mconfig\u001b[49m\u001b[38;5;241;43m.\u001b[39;49m\u001b[43mpipeline\u001b[49m\u001b[38;5;241;43m.\u001b[39;49m\u001b[43mdescription\u001b[49m\u001b[43m,\u001b[49m\n\u001b[1;32m      4\u001b[0m \u001b[43m    \u001b[49m\u001b[43mpipeline_root\u001b[49m\u001b[38;5;241;43m=\u001b[39;49m\u001b[43mconfig\u001b[49m\u001b[38;5;241;43m.\u001b[39;49m\u001b[43mpipeline\u001b[49m\u001b[38;5;241;43m.\u001b[39;49m\u001b[43mroot\u001b[49m\u001b[43m \u001b[49m\u001b[38;5;241;43m+\u001b[39;49m\u001b[43m \u001b[49m\u001b[43mconfig\u001b[49m\u001b[38;5;241;43m.\u001b[39;49m\u001b[43mpipeline\u001b[49m\u001b[38;5;241;43m.\u001b[39;49m\u001b[43mname\u001b[49m\n\u001b[1;32m      5\u001b[0m \u001b[43m)\u001b[49m\n\u001b[1;32m      6\u001b[0m \u001b[38;5;28;43;01mdef\u001b[39;49;00m\u001b[43m \u001b[49m\u001b[38;5;21;43mtitaninc_pipeline\u001b[39;49m\u001b[43m(\u001b[49m\n\u001b[1;32m      7\u001b[0m \u001b[43m    \u001b[49m\u001b[43mproject_id\u001b[49m\u001b[43m:\u001b[49m\u001b[43m \u001b[49m\u001b[38;5;28;43mstr\u001b[39;49m\u001b[43m,\u001b[49m\n\u001b[1;32m      8\u001b[0m \u001b[43m    \u001b[49m\u001b[43mdataset_id\u001b[49m\u001b[43m:\u001b[49m\u001b[43m \u001b[49m\u001b[38;5;28;43mstr\u001b[39;49m\u001b[43m,\u001b[49m\n\u001b[1;32m      9\u001b[0m \u001b[43m    \u001b[49m\u001b[43mtable_id\u001b[49m\u001b[43m:\u001b[49m\u001b[43m \u001b[49m\u001b[38;5;28;43mstr\u001b[39;49m\n\u001b[1;32m     10\u001b[0m \u001b[43m)\u001b[49m\u001b[43m:\u001b[49m\n\u001b[1;32m     11\u001b[0m \u001b[43m    \u001b[49m\u001b[43mfetch_data\u001b[49m\u001b[43m \u001b[49m\u001b[38;5;241;43m=\u001b[39;49m\u001b[43m \u001b[49m\u001b[43mfetch_big_data_table\u001b[49m\u001b[43m(\u001b[49m\n\u001b[1;32m     12\u001b[0m \u001b[43m        \u001b[49m\u001b[43mproject_id\u001b[49m\u001b[38;5;241;43m=\u001b[39;49m\u001b[43mproject_id\u001b[49m\u001b[43m,\u001b[49m\u001b[43m \u001b[49m\n\u001b[1;32m     13\u001b[0m \u001b[43m        \u001b[49m\u001b[43mdataset_id\u001b[49m\u001b[38;5;241;43m=\u001b[39;49m\u001b[43mdataset_id\u001b[49m\u001b[43m,\u001b[49m\u001b[43m \u001b[49m\n\u001b[1;32m     14\u001b[0m \u001b[43m        \u001b[49m\u001b[43mtable_id\u001b[49m\u001b[38;5;241;43m=\u001b[39;49m\u001b[43mtable_id\u001b[49m\n\u001b[1;32m     15\u001b[0m \u001b[43m        \u001b[49m\u001b[43m)\u001b[49m\n\u001b[1;32m     17\u001b[0m \u001b[43m    \u001b[49m\u001b[43mprepare_data_task\u001b[49m\u001b[43m \u001b[49m\u001b[38;5;241;43m=\u001b[39;49m\u001b[43m \u001b[49m\u001b[43mprepare_data\u001b[49m\u001b[43m(\u001b[49m\n\u001b[1;32m     18\u001b[0m \u001b[43m        \u001b[49m\u001b[43minput_data\u001b[49m\u001b[38;5;241;43m=\u001b[39;49m\u001b[43mfetch_data\u001b[49m\u001b[38;5;241;43m.\u001b[39;49m\u001b[43moutput\u001b[49m\n\u001b[1;32m     19\u001b[0m \u001b[43m        \u001b[49m\u001b[43m)\u001b[49m\n",
      "File \u001b[0;32m/usr/local/lib/python3.11/site-packages/kfp/dsl/pipeline_context.py:65\u001b[0m, in \u001b[0;36mpipeline\u001b[0;34m(func, name, description, pipeline_root, display_name)\u001b[0m\n\u001b[1;32m     62\u001b[0m \u001b[38;5;28;01mif\u001b[39;00m pipeline_root:\n\u001b[1;32m     63\u001b[0m     func\u001b[38;5;241m.\u001b[39mpipeline_root \u001b[38;5;241m=\u001b[39m pipeline_root\n\u001b[0;32m---> 65\u001b[0m \u001b[38;5;28;01mreturn\u001b[39;00m \u001b[43mcomponent_factory\u001b[49m\u001b[38;5;241;43m.\u001b[39;49m\u001b[43mcreate_graph_component_from_func\u001b[49m\u001b[43m(\u001b[49m\n\u001b[1;32m     66\u001b[0m \u001b[43m    \u001b[49m\u001b[43mfunc\u001b[49m\u001b[43m,\u001b[49m\n\u001b[1;32m     67\u001b[0m \u001b[43m    \u001b[49m\u001b[43mname\u001b[49m\u001b[38;5;241;43m=\u001b[39;49m\u001b[43mname\u001b[49m\u001b[43m,\u001b[49m\n\u001b[1;32m     68\u001b[0m \u001b[43m    \u001b[49m\u001b[43mdescription\u001b[49m\u001b[38;5;241;43m=\u001b[39;49m\u001b[43mdescription\u001b[49m\u001b[43m,\u001b[49m\n\u001b[1;32m     69\u001b[0m \u001b[43m    \u001b[49m\u001b[43mdisplay_name\u001b[49m\u001b[38;5;241;43m=\u001b[39;49m\u001b[43mdisplay_name\u001b[49m\u001b[43m,\u001b[49m\n\u001b[1;32m     70\u001b[0m \u001b[43m\u001b[49m\u001b[43m)\u001b[49m\n",
      "File \u001b[0;32m/usr/local/lib/python3.11/site-packages/kfp/dsl/component_factory.py:691\u001b[0m, in \u001b[0;36mcreate_graph_component_from_func\u001b[0;34m(func, name, description, display_name)\u001b[0m\n\u001b[1;32m    680\u001b[0m \u001b[38;5;250m\u001b[39m\u001b[38;5;124;03m\"\"\"Implementation for the @pipeline decorator.\u001b[39;00m\n\u001b[1;32m    681\u001b[0m \n\u001b[1;32m    682\u001b[0m \u001b[38;5;124;03mThe decorator is defined under pipeline_context.py. See the\u001b[39;00m\n\u001b[1;32m    683\u001b[0m \u001b[38;5;124;03mdecorator for the canonical documentation for this function.\u001b[39;00m\n\u001b[1;32m    684\u001b[0m \u001b[38;5;124;03m\"\"\"\u001b[39;00m\n\u001b[1;32m    686\u001b[0m component_spec \u001b[38;5;241m=\u001b[39m extract_component_interface(\n\u001b[1;32m    687\u001b[0m     func,\n\u001b[1;32m    688\u001b[0m     description\u001b[38;5;241m=\u001b[39mdescription,\n\u001b[1;32m    689\u001b[0m     name\u001b[38;5;241m=\u001b[39mname,\n\u001b[1;32m    690\u001b[0m )\n\u001b[0;32m--> 691\u001b[0m \u001b[38;5;28;01mreturn\u001b[39;00m \u001b[43mgraph_component\u001b[49m\u001b[38;5;241;43m.\u001b[39;49m\u001b[43mGraphComponent\u001b[49m\u001b[43m(\u001b[49m\n\u001b[1;32m    692\u001b[0m \u001b[43m    \u001b[49m\u001b[43mcomponent_spec\u001b[49m\u001b[38;5;241;43m=\u001b[39;49m\u001b[43mcomponent_spec\u001b[49m\u001b[43m,\u001b[49m\n\u001b[1;32m    693\u001b[0m \u001b[43m    \u001b[49m\u001b[43mpipeline_func\u001b[49m\u001b[38;5;241;43m=\u001b[39;49m\u001b[43mfunc\u001b[49m\u001b[43m,\u001b[49m\n\u001b[1;32m    694\u001b[0m \u001b[43m    \u001b[49m\u001b[43mdisplay_name\u001b[49m\u001b[38;5;241;43m=\u001b[39;49m\u001b[43mdisplay_name\u001b[49m\u001b[43m,\u001b[49m\n\u001b[1;32m    695\u001b[0m \u001b[43m\u001b[49m\u001b[43m)\u001b[49m\n",
      "File \u001b[0;32m/usr/local/lib/python3.11/site-packages/kfp/dsl/graph_component.py:58\u001b[0m, in \u001b[0;36mGraphComponent.__init__\u001b[0;34m(self, component_spec, pipeline_func, display_name)\u001b[0m\n\u001b[1;32m     49\u001b[0m     args_list\u001b[38;5;241m.\u001b[39mappend(\n\u001b[1;32m     50\u001b[0m         pipeline_channel\u001b[38;5;241m.\u001b[39mcreate_pipeline_channel(\n\u001b[1;32m     51\u001b[0m             name\u001b[38;5;241m=\u001b[39marg_name,\n\u001b[1;32m     52\u001b[0m             channel_type\u001b[38;5;241m=\u001b[39minput_spec\u001b[38;5;241m.\u001b[39mtype,\n\u001b[1;32m     53\u001b[0m             is_artifact_list\u001b[38;5;241m=\u001b[39minput_spec\u001b[38;5;241m.\u001b[39mis_artifact_list,\n\u001b[1;32m     54\u001b[0m         ))\n\u001b[1;32m     56\u001b[0m \u001b[38;5;28;01mwith\u001b[39;00m pipeline_context\u001b[38;5;241m.\u001b[39mPipeline(\n\u001b[1;32m     57\u001b[0m         \u001b[38;5;28mself\u001b[39m\u001b[38;5;241m.\u001b[39mcomponent_spec\u001b[38;5;241m.\u001b[39mname) \u001b[38;5;28;01mas\u001b[39;00m dsl_pipeline:\n\u001b[0;32m---> 58\u001b[0m     pipeline_outputs \u001b[38;5;241m=\u001b[39m \u001b[43mpipeline_func\u001b[49m\u001b[43m(\u001b[49m\u001b[38;5;241;43m*\u001b[39;49m\u001b[43margs_list\u001b[49m\u001b[43m)\u001b[49m\n\u001b[1;32m     60\u001b[0m \u001b[38;5;28;01mif\u001b[39;00m \u001b[38;5;129;01mnot\u001b[39;00m dsl_pipeline\u001b[38;5;241m.\u001b[39mtasks:\n\u001b[1;32m     61\u001b[0m     \u001b[38;5;28;01mraise\u001b[39;00m \u001b[38;5;167;01mValueError\u001b[39;00m(\u001b[38;5;124m'\u001b[39m\u001b[38;5;124mTask is missing from pipeline.\u001b[39m\u001b[38;5;124m'\u001b[39m)\n",
      "Cell \u001b[0;32mIn[98], line 41\u001b[0m, in \u001b[0;36mtitaninc_pipeline\u001b[0;34m(project_id, dataset_id, table_id)\u001b[0m\n\u001b[1;32m     34\u001b[0m fetch_curr_model_metrics_task \u001b[38;5;241m=\u001b[39m fetch_curr_model_metrics()\n\u001b[1;32m     36\u001b[0m fetch_training_metrics_task \u001b[38;5;241m=\u001b[39m fetch_training_metrics(\n\u001b[1;32m     37\u001b[0m     metrics_artifcat\u001b[38;5;241m=\u001b[39mtrain_model_task\u001b[38;5;241m.\u001b[39moutputs[\u001b[38;5;124m\"\u001b[39m\u001b[38;5;124mmetrics_artifact\u001b[39m\u001b[38;5;124m\"\u001b[39m]\n\u001b[1;32m     38\u001b[0m )\n\u001b[1;32m     40\u001b[0m \u001b[38;5;28;01mwith\u001b[39;00m dsl\u001b[38;5;241m.\u001b[39mCondition(\n\u001b[0;32m---> 41\u001b[0m     fetch_curr_model_metrics_task\u001b[38;5;241m.\u001b[39moutput \u001b[38;5;241m<\u001b[39m\u001b[38;5;241m=\u001b[39m \u001b[43mtrain_model_task\u001b[49m\u001b[38;5;241;43m.\u001b[39;49m\u001b[43moutputs\u001b[49m\u001b[43m[\u001b[49m\u001b[38;5;124;43m\"\u001b[39;49m\u001b[38;5;124;43mmetrics_artifact\u001b[39;49m\u001b[38;5;124;43m\"\u001b[39;49m\u001b[43m]\u001b[49m\u001b[38;5;241;43m.\u001b[39;49m\u001b[43mmetadata\u001b[49m[\u001b[38;5;124m\"\u001b[39m\u001b[38;5;124mf1_score\u001b[39m\u001b[38;5;124m\"\u001b[39m]\n\u001b[1;32m     42\u001b[0m ):\n\u001b[1;32m     43\u001b[0m     deploy_model_task \u001b[38;5;241m=\u001b[39m deploy_model(\n\u001b[1;32m     44\u001b[0m         model_artifact\u001b[38;5;241m=\u001b[39mtrain_model_task\u001b[38;5;241m.\u001b[39moutputs[\u001b[38;5;124m\"\u001b[39m\u001b[38;5;124mmodel\u001b[39m\u001b[38;5;124m\"\u001b[39m],\n\u001b[1;32m     45\u001b[0m         scaler_artifact\u001b[38;5;241m=\u001b[39mscale_data_task\u001b[38;5;241m.\u001b[39moutputs[\u001b[38;5;124m\"\u001b[39m\u001b[38;5;124mscaler_artifact\u001b[39m\u001b[38;5;124m\"\u001b[39m]\n\u001b[1;32m     46\u001b[0m     )\n",
      "\u001b[0;31mAttributeError\u001b[0m: 'PipelineArtifactChannel' object has no attribute 'metadata'"
     ]
    }
   ],
   "source": [
    "@pipeline(\n",
    "    name=config.pipeline.name,\n",
    "    description=config.pipeline.description,\n",
    "    pipeline_root=config.pipeline.root + config.pipeline.name\n",
    ")\n",
    "def titaninc_pipeline(\n",
    "    project_id: str,\n",
    "    dataset_id: str,\n",
    "    table_id: str\n",
    "):\n",
    "    fetch_data = fetch_big_data_table(\n",
    "        project_id=project_id, \n",
    "        dataset_id=dataset_id, \n",
    "        table_id=table_id\n",
    "        )\n",
    "    \n",
    "    prepare_data_task = prepare_data(\n",
    "        input_data=fetch_data.output\n",
    "        )\n",
    "    \n",
    "    scale_data_task = scale_data(\n",
    "        input_data=prepare_data_task.output\n",
    "        )\n",
    "    \n",
    "    split_train_test_task = split_train_test( \n",
    "        input_data=scale_data_task.outputs[\"dataset_artifact\"]\n",
    "        )\n",
    "    \n",
    "    train_model_task = train_model(\n",
    "        train_data=split_train_test_task.outputs[\"dataset_train\"],\n",
    "        test_data=split_train_test_task.outputs[\"dataset_test\"]\n",
    "    )\n",
    "    \n",
    "    fetch_curr_model_metrics_task = fetch_curr_model_metrics()\n",
    "    \n",
    "    fetch_training_metrics_task = fetch_training_metrics(\n",
    "        metrics_artifcat=train_model_task.outputs[\"metrics_artifact\"]\n",
    "    )\n",
    "    \n",
    "    with dsl.Condition(\n",
    "        fetch_curr_model_metrics_task.output <= fetch_training_metrics_task.output\n",
    "    ):\n",
    "        deploy_model_task = deploy_model(\n",
    "            model_artifact=train_model_task.outputs[\"model\"],\n",
    "            scaler_artifact=scale_data_task.outputs[\"scaler_artifact\"]\n",
    "        )"
   ]
  },
  {
   "cell_type": "code",
   "execution_count": 94,
   "metadata": {},
   "outputs": [],
   "source": [
    "aiplatform.init(\n",
    "    project=config.project_id, \n",
    "    location=config.location\n",
    ")"
   ]
  },
  {
   "cell_type": "code",
   "execution_count": 95,
   "metadata": {},
   "outputs": [],
   "source": [
    "compiler.Compiler().compile(\n",
    "    pipeline_func=titaninc_pipeline, \n",
    "    package_path=config.pipeline.package_path\n",
    "    )"
   ]
  },
  {
   "cell_type": "code",
   "execution_count": 96,
   "metadata": {},
   "outputs": [],
   "source": [
    "job = pipeline_jobs.PipelineJob(\n",
    "    display_name=config.pipeline.name,\n",
    "    template_path=config.pipeline.package_path,\n",
    "    parameter_values={\n",
    "        'project_id': config.project_id,\n",
    "        'dataset_id': config.parameters.dataset_id,\n",
    "        'table_id': config.parameters.table_id\n",
    "    }\n",
    ")"
   ]
  },
  {
   "cell_type": "code",
   "execution_count": 97,
   "metadata": {},
   "outputs": [
    {
     "name": "stdout",
     "output_type": "stream",
     "text": [
      "Creating PipelineJob\n",
      "PipelineJob created. Resource name: projects/470842673491/locations/southamerica-east1/pipelineJobs/titanic-pipeline-20241004190821\n",
      "To use this PipelineJob in another session:\n",
      "pipeline_job = aiplatform.PipelineJob.get('projects/470842673491/locations/southamerica-east1/pipelineJobs/titanic-pipeline-20241004190821')\n",
      "View Pipeline Job:\n",
      "https://console.cloud.google.com/vertex-ai/locations/southamerica-east1/pipelines/runs/titanic-pipeline-20241004190821?project=470842673491\n",
      "PipelineJob projects/470842673491/locations/southamerica-east1/pipelineJobs/titanic-pipeline-20241004190821 current state:\n",
      "3\n",
      "PipelineJob projects/470842673491/locations/southamerica-east1/pipelineJobs/titanic-pipeline-20241004190821 current state:\n",
      "3\n",
      "PipelineJob projects/470842673491/locations/southamerica-east1/pipelineJobs/titanic-pipeline-20241004190821 current state:\n",
      "3\n",
      "PipelineJob run completed. Resource name: projects/470842673491/locations/southamerica-east1/pipelineJobs/titanic-pipeline-20241004190821\n"
     ]
    }
   ],
   "source": [
    "job.run()"
   ]
  },
  {
   "cell_type": "code",
   "execution_count": null,
   "metadata": {},
   "outputs": [],
   "source": []
  }
 ],
 "metadata": {
  "kernelspec": {
   "display_name": "Python 3",
   "language": "python",
   "name": "python3"
  },
  "language_info": {
   "codemirror_mode": {
    "name": "ipython",
    "version": 3
   },
   "file_extension": ".py",
   "mimetype": "text/x-python",
   "name": "python",
   "nbconvert_exporter": "python",
   "pygments_lexer": "ipython3",
   "version": "3.11.10"
  }
 },
 "nbformat": 4,
 "nbformat_minor": 2
}
