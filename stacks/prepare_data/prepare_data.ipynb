{
 "cells": [
  {
   "cell_type": "markdown",
   "metadata": {},
   "source": [
    "### Load Config File"
   ]
  },
  {
   "cell_type": "code",
   "execution_count": 29,
   "metadata": {},
   "outputs": [],
   "source": [
    "import yaml\n",
    "from box import ConfigBox\n",
    "\n",
    "\n",
    "with open(\"config.yaml\", \"r\") as ymlfile:\n",
    "    config = yaml.safe_load(ymlfile)\n",
    "\n",
    "config = ConfigBox(config)"
   ]
  },
  {
   "cell_type": "markdown",
   "metadata": {},
   "source": [
    "### Imports"
   ]
  },
  {
   "cell_type": "code",
   "execution_count": 30,
   "metadata": {},
   "outputs": [],
   "source": [
    "from google.cloud import aiplatform\n",
    "from google.cloud.aiplatform import pipeline_jobs\n",
    "\n",
    "from typing import NamedTuple\n",
    "\n",
    "from kfp.dsl import component\n",
    "from kfp.dsl import pipeline\n",
    "from kfp import compiler\n",
    "from kfp.dsl import (Artifact, Model, Dataset, Input, Output, OutputPath, InputPath)\n",
    "from kfp import dsl"
   ]
  },
  {
   "cell_type": "markdown",
   "metadata": {},
   "source": [
    "### Components"
   ]
  },
  {
   "cell_type": "code",
   "execution_count": 31,
   "metadata": {},
   "outputs": [],
   "source": [
    "@component(\n",
    "    base_image=\"python:3.11-slim\",\n",
    "    packages_to_install=[\n",
    "        config.packages.BIGQUERY, \n",
    "        config.packages.PANDAS,\n",
    "        config.packages.DB_TYPES\n",
    "    ]\n",
    ")\n",
    "def fetch_big_data_table(\n",
    "    project_id: str,\n",
    "    dataset_id: str,\n",
    "    table_id: str,\n",
    "    dataset_artifact: Output[Dataset]\n",
    "):\n",
    "    \n",
    "    from google.cloud import bigquery\n",
    "\n",
    "    client = bigquery.Client(project=project_id)\n",
    "    \n",
    "    query = f\"\"\"\n",
    "        SELECT *\n",
    "        FROM `{project_id}.{dataset_id}.{table_id}`\n",
    "        \"\"\"\n",
    "    \n",
    "    data = client.query(query).to_dataframe()\n",
    "    \n",
    "    data.to_csv(dataset_artifact.path, index=False)\n",
    "    "
   ]
  },
  {
   "cell_type": "code",
   "execution_count": 32,
   "metadata": {},
   "outputs": [],
   "source": [
    "@component(\n",
    "    base_image=\"southamerica-east1-docker.pkg.dev/pebolas-sandbox/sample-model/prepare_data:latest\"\n",
    ")\n",
    "def prepare_data(\n",
    "    input_data: Input[Dataset],\n",
    "    dataset_artifact: Output[Dataset]\n",
    "    \n",
    "):\n",
    "    \n",
    "    import pandas as pd\n",
    "    \n",
    "    data = pd.read_csv(input_data.path, index_col=False)\n",
    "    \n",
    "    data.Age = data.Age.fillna(data.Age.mean())\n",
    "\n",
    "    data.Embarked = data.Embarked.fillna(\n",
    "        data.Embarked.mode()[0]\n",
    "    )\n",
    "\n",
    "    data.drop(columns=[\"Cabin\", \"Name\", \"Ticket\"], inplace=True)\n",
    "\n",
    "    data.Sex = data.Sex.map({\"male\": 0, \"female\": 1})\n",
    "\n",
    "    data = pd.get_dummies(\n",
    "        data, columns=[\"Embarked\"], drop_first=True\n",
    "    )\n",
    "    \n",
    "    data.to_csv(dataset_artifact.path, index=False)\n",
    "\n",
    "    \n",
    "    "
   ]
  },
  {
   "cell_type": "code",
   "execution_count": 33,
   "metadata": {},
   "outputs": [],
   "source": [
    "@component(\n",
    "    base_image=\"python:3.11-slim\",\n",
    "    packages_to_install=[\n",
    "        config.packages.SKLEARN, \n",
    "        config.packages.PANDAS,\n",
    "        config.packages.DB_TYPES\n",
    "    ]\n",
    ")\n",
    "def scale_data(\n",
    "    input_data: Input[Dataset],\n",
    "    scaler_artifact: Output[Artifact],\n",
    "    dataset_artifact: Output[Dataset]\n",
    "):\n",
    "    \n",
    "    import pickle as pkl\n",
    "    import pandas as pd\n",
    "    from sklearn.preprocessing import StandardScaler\n",
    "    \n",
    "    data = pd.read_csv(input_data.path, index_col=False)\n",
    "    \n",
    "    scaler = StandardScaler()\n",
    "    \n",
    "    column_to_scale = [\"Age\", \"Fare\"]\n",
    "    data[column_to_scale] = scaler.fit_transform(\n",
    "            data[column_to_scale]\n",
    "        )\n",
    "    \n",
    "    with open(scaler_artifact.path, \"wb\") as f:\n",
    "        pkl.dump(scaler, f)\n",
    "        \n",
    "    data.to_csv(dataset_artifact.path, index=False)\n",
    "    "
   ]
  },
  {
   "cell_type": "code",
   "execution_count": 37,
   "metadata": {},
   "outputs": [],
   "source": [
    "@component(\n",
    "    base_image=\"python:3.11-slim\",\n",
    "    packages_to_install=[\n",
    "        config.packages.SKLEARN,\n",
    "        config.packages.PANDAS,\n",
    "        config.packages.DB_TYPES\n",
    "    ]\n",
    ")\n",
    "def split_train_test(\n",
    "    input_data: Input[Dataset],\n",
    "    dataset_train: Output[Artifact],\n",
    "    dataset_test: Output[Artifact]\n",
    "):\n",
    "    import pickle as pkl\n",
    "    import pandas as pd\n",
    "    from sklearn import model_selection\n",
    "    \n",
    "    data = pd.read_csv(input_data.path, index_col=False)\n",
    "    \n",
    "    x_train, x_test, y_train, y_test = model_selection.train_test_split(\n",
    "        data.drop(columns=[\"Survived\"]),\n",
    "        data.Survived,\n",
    "        test_size=0.2,\n",
    "        random_state=42\n",
    "    )\n",
    "    \n",
    "    x_train_results = {'x_train': x_train, 'y_train': y_train}\n",
    "    x_test_results = {'x_test': x_test, 'y_test': y_test}\n",
    "    \n",
    "    with open(dataset_train.path, \"wb\") as f:\n",
    "        pkl.dump(x_train_results, f)\n",
    "        \n",
    "    with open(dataset_test.path, \"wb\") as f:\n",
    "        pkl.dump(x_test_results, f)\n",
    "    "
   ]
  },
  {
   "cell_type": "code",
   "execution_count": 38,
   "metadata": {},
   "outputs": [],
   "source": [
    "@component(\n",
    "    base_image=\"python:3.11-slim\",\n",
    "    packages_to_install=[\n",
    "        config.packages.SKLEARN,\n",
    "        config.packages.PANDAS,\n",
    "        config.packages.DB_TYPES\n",
    "    ]\n",
    ")\n",
    "def train_model(\n",
    "    train_data: Input[Artifact],\n",
    "    test_data: Input[Artifact],\n",
    "    model: Output[Model]\n",
    "):\n",
    "    import pickle as pkl\n",
    "    from sklearn.linear_model import LogisticRegression\n",
    "    from sklearn.metrics import f1_score, accuracy_score\n",
    "    \n",
    "    with open(train_data.path, \"rb\") as f:\n",
    "        data = pkl.load(f)\n",
    "        \n",
    "    X_train = data['x_train']\n",
    "    y_train = data['y_train']\n",
    "    \n",
    "    lr = LogisticRegression()\n",
    "    lr.fit(X_train, y_train)\n",
    "    \n",
    "    \n",
    "    with open(test_data.path, \"rb\") as f:\n",
    "        data = pkl.load(f)\n",
    "        \n",
    "    X_test = data['x_test']\n",
    "    y_test = data['y_test']\n",
    "    \n",
    "    predictions = lr.predict(X_test)\n",
    "    \n",
    "    metrics = {\n",
    "        \"f1\": f1_score(y_test, predictions),\n",
    "        \"accuracy\": accuracy_score(y_test, predictions)\n",
    "    }\n",
    "\n",
    "    with open(model.path, \"wb\") as f:\n",
    "        pkl.dump(lr, f)\n",
    "        \n",
    "    model.metadata[\"metrics\"] = metrics"
   ]
  },
  {
   "cell_type": "code",
   "execution_count": 41,
   "metadata": {},
   "outputs": [],
   "source": [
    "@pipeline(\n",
    "    name=config.pipeline.name,\n",
    "    description=config.pipeline.description,\n",
    "    pipeline_root=config.pipeline.root + config.pipeline.name\n",
    ")\n",
    "def titaninc_pipeline(\n",
    "    project_id: str,\n",
    "    dataset_id: str,\n",
    "    table_id: str\n",
    "):\n",
    "    fetch_data = fetch_big_data_table(\n",
    "        project_id=project_id, \n",
    "        dataset_id=dataset_id, \n",
    "        table_id=table_id\n",
    "        )\n",
    "    \n",
    "    prepare_data_task = prepare_data(\n",
    "        input_data=fetch_data.output\n",
    "        )\n",
    "    \n",
    "    scale_data_task = scale_data(\n",
    "        input_data=prepare_data_task.output\n",
    "        )\n",
    "    \n",
    "    split_train_test_task = split_train_test( \n",
    "        input_data=scale_data_task.outputs[\"dataset_artifact\"]\n",
    "        )\n",
    "    \n",
    "    train_model(\n",
    "        train_data=split_train_test_task.outputs[\"dataset_train\"],\n",
    "        test_data=split_train_test_task.outputs[\"dataset_test\"]\n",
    "    )"
   ]
  },
  {
   "cell_type": "code",
   "execution_count": 42,
   "metadata": {},
   "outputs": [],
   "source": [
    "aiplatform.init(\n",
    "    project=config.project_id, \n",
    "    location=config.location\n",
    ")"
   ]
  },
  {
   "cell_type": "code",
   "execution_count": 43,
   "metadata": {},
   "outputs": [],
   "source": [
    "compiler.Compiler().compile(\n",
    "    pipeline_func=titaninc_pipeline, \n",
    "    package_path=config.pipeline.package_path\n",
    "    )"
   ]
  },
  {
   "cell_type": "code",
   "execution_count": 45,
   "metadata": {},
   "outputs": [],
   "source": [
    "job = pipeline_jobs.PipelineJob(\n",
    "    display_name=config.pipeline.name,\n",
    "    template_path=config.pipeline.package_path,\n",
    "    parameter_values={\n",
    "        'project_id': config.project_id,\n",
    "        'dataset_id': config.parameters.dataset_id,\n",
    "        'table_id': config.parameters.table_id\n",
    "    }\n",
    ")"
   ]
  },
  {
   "cell_type": "code",
   "execution_count": 46,
   "metadata": {},
   "outputs": [
    {
     "name": "stdout",
     "output_type": "stream",
     "text": [
      "Creating PipelineJob\n",
      "PipelineJob created. Resource name: projects/470842673491/locations/southamerica-east1/pipelineJobs/titanic-pipeline-20241003205943\n",
      "To use this PipelineJob in another session:\n",
      "pipeline_job = aiplatform.PipelineJob.get('projects/470842673491/locations/southamerica-east1/pipelineJobs/titanic-pipeline-20241003205943')\n",
      "View Pipeline Job:\n",
      "https://console.cloud.google.com/vertex-ai/locations/southamerica-east1/pipelines/runs/titanic-pipeline-20241003205943?project=470842673491\n",
      "PipelineJob projects/470842673491/locations/southamerica-east1/pipelineJobs/titanic-pipeline-20241003205943 current state:\n",
      "3\n",
      "PipelineJob projects/470842673491/locations/southamerica-east1/pipelineJobs/titanic-pipeline-20241003205943 current state:\n",
      "3\n",
      "PipelineJob projects/470842673491/locations/southamerica-east1/pipelineJobs/titanic-pipeline-20241003205943 current state:\n",
      "3\n",
      "PipelineJob projects/470842673491/locations/southamerica-east1/pipelineJobs/titanic-pipeline-20241003205943 current state:\n",
      "3\n"
     ]
    },
    {
     "ename": "RuntimeError",
     "evalue": "Job failed with:\ncode: 9\nmessage: \" The DAG failed because some tasks failed. The failed tasks are: [train-model].; Job (project_id = pebolas-sandbox, job_id = 81823456315834368) is failed due to the above error.; Failed to handle the job: {project_number = 470842673491, job_id = 81823456315834368}\"\n",
     "output_type": "error",
     "traceback": [
      "\u001b[0;31m---------------------------------------------------------------------------\u001b[0m",
      "\u001b[0;31mRuntimeError\u001b[0m                              Traceback (most recent call last)",
      "Cell \u001b[0;32mIn[46], line 1\u001b[0m\n\u001b[0;32m----> 1\u001b[0m \u001b[43mjob\u001b[49m\u001b[38;5;241;43m.\u001b[39;49m\u001b[43mrun\u001b[49m\u001b[43m(\u001b[49m\u001b[43m)\u001b[49m\n",
      "File \u001b[0;32m/usr/local/lib/python3.11/site-packages/google/cloud/aiplatform/pipeline_jobs.py:334\u001b[0m, in \u001b[0;36mPipelineJob.run\u001b[0;34m(self, service_account, network, reserved_ip_ranges, sync, create_request_timeout, enable_preflight_validations)\u001b[0m\n\u001b[1;32m    310\u001b[0m \u001b[38;5;250m\u001b[39m\u001b[38;5;124;03m\"\"\"Run this configured PipelineJob and monitor the job until completion.\u001b[39;00m\n\u001b[1;32m    311\u001b[0m \n\u001b[1;32m    312\u001b[0m \u001b[38;5;124;03mArgs:\u001b[39;00m\n\u001b[0;32m   (...)\u001b[0m\n\u001b[1;32m    330\u001b[0m \u001b[38;5;124;03m        Optional. Whether to enable preflight validations for the PipelineJob.\u001b[39;00m\n\u001b[1;32m    331\u001b[0m \u001b[38;5;124;03m\"\"\"\u001b[39;00m\n\u001b[1;32m    332\u001b[0m network \u001b[38;5;241m=\u001b[39m network \u001b[38;5;129;01mor\u001b[39;00m initializer\u001b[38;5;241m.\u001b[39mglobal_config\u001b[38;5;241m.\u001b[39mnetwork\n\u001b[0;32m--> 334\u001b[0m \u001b[38;5;28;43mself\u001b[39;49m\u001b[38;5;241;43m.\u001b[39;49m\u001b[43m_run\u001b[49m\u001b[43m(\u001b[49m\n\u001b[1;32m    335\u001b[0m \u001b[43m    \u001b[49m\u001b[43mservice_account\u001b[49m\u001b[38;5;241;43m=\u001b[39;49m\u001b[43mservice_account\u001b[49m\u001b[43m,\u001b[49m\n\u001b[1;32m    336\u001b[0m \u001b[43m    \u001b[49m\u001b[43mnetwork\u001b[49m\u001b[38;5;241;43m=\u001b[39;49m\u001b[43mnetwork\u001b[49m\u001b[43m,\u001b[49m\n\u001b[1;32m    337\u001b[0m \u001b[43m    \u001b[49m\u001b[43mreserved_ip_ranges\u001b[49m\u001b[38;5;241;43m=\u001b[39;49m\u001b[43mreserved_ip_ranges\u001b[49m\u001b[43m,\u001b[49m\n\u001b[1;32m    338\u001b[0m \u001b[43m    \u001b[49m\u001b[43msync\u001b[49m\u001b[38;5;241;43m=\u001b[39;49m\u001b[43msync\u001b[49m\u001b[43m,\u001b[49m\n\u001b[1;32m    339\u001b[0m \u001b[43m    \u001b[49m\u001b[43mcreate_request_timeout\u001b[49m\u001b[38;5;241;43m=\u001b[39;49m\u001b[43mcreate_request_timeout\u001b[49m\u001b[43m,\u001b[49m\n\u001b[1;32m    340\u001b[0m \u001b[43m    \u001b[49m\u001b[43menable_preflight_validations\u001b[49m\u001b[38;5;241;43m=\u001b[39;49m\u001b[43menable_preflight_validations\u001b[49m\u001b[43m,\u001b[49m\n\u001b[1;32m    341\u001b[0m \u001b[43m\u001b[49m\u001b[43m)\u001b[49m\n",
      "File \u001b[0;32m/usr/local/lib/python3.11/site-packages/google/cloud/aiplatform/base.py:863\u001b[0m, in \u001b[0;36moptional_sync.<locals>.optional_run_in_thread.<locals>.wrapper\u001b[0;34m(*args, **kwargs)\u001b[0m\n\u001b[1;32m    861\u001b[0m     \u001b[38;5;28;01mif\u001b[39;00m \u001b[38;5;28mself\u001b[39m:\n\u001b[1;32m    862\u001b[0m         VertexAiResourceNounWithFutureManager\u001b[38;5;241m.\u001b[39mwait(\u001b[38;5;28mself\u001b[39m)\n\u001b[0;32m--> 863\u001b[0m     \u001b[38;5;28;01mreturn\u001b[39;00m \u001b[43mmethod\u001b[49m\u001b[43m(\u001b[49m\u001b[38;5;241;43m*\u001b[39;49m\u001b[43margs\u001b[49m\u001b[43m,\u001b[49m\u001b[43m \u001b[49m\u001b[38;5;241;43m*\u001b[39;49m\u001b[38;5;241;43m*\u001b[39;49m\u001b[43mkwargs\u001b[49m\u001b[43m)\u001b[49m\n\u001b[1;32m    865\u001b[0m \u001b[38;5;66;03m# callbacks to call within the Future (in same Thread)\u001b[39;00m\n\u001b[1;32m    866\u001b[0m internal_callbacks \u001b[38;5;241m=\u001b[39m []\n",
      "File \u001b[0;32m/usr/local/lib/python3.11/site-packages/google/cloud/aiplatform/pipeline_jobs.py:382\u001b[0m, in \u001b[0;36mPipelineJob._run\u001b[0;34m(self, service_account, network, reserved_ip_ranges, sync, create_request_timeout, enable_preflight_validations)\u001b[0m\n\u001b[1;32m    353\u001b[0m \u001b[38;5;250m\u001b[39m\u001b[38;5;124;03m\"\"\"Helper method to ensure network synchronization and to run\u001b[39;00m\n\u001b[1;32m    354\u001b[0m \u001b[38;5;124;03mthe configured PipelineJob and monitor the job until completion.\u001b[39;00m\n\u001b[1;32m    355\u001b[0m \n\u001b[0;32m   (...)\u001b[0m\n\u001b[1;32m    372\u001b[0m \u001b[38;5;124;03m        Optional. Whether to enable preflight validations for the PipelineJob.\u001b[39;00m\n\u001b[1;32m    373\u001b[0m \u001b[38;5;124;03m\"\"\"\u001b[39;00m\n\u001b[1;32m    374\u001b[0m \u001b[38;5;28mself\u001b[39m\u001b[38;5;241m.\u001b[39msubmit(\n\u001b[1;32m    375\u001b[0m     service_account\u001b[38;5;241m=\u001b[39mservice_account,\n\u001b[1;32m    376\u001b[0m     network\u001b[38;5;241m=\u001b[39mnetwork,\n\u001b[0;32m   (...)\u001b[0m\n\u001b[1;32m    379\u001b[0m     enable_preflight_validations\u001b[38;5;241m=\u001b[39menable_preflight_validations,\n\u001b[1;32m    380\u001b[0m )\n\u001b[0;32m--> 382\u001b[0m \u001b[38;5;28;43mself\u001b[39;49m\u001b[38;5;241;43m.\u001b[39;49m\u001b[43m_block_until_complete\u001b[49m\u001b[43m(\u001b[49m\u001b[43m)\u001b[49m\n\u001b[1;32m    384\u001b[0m \u001b[38;5;66;03m# AutoSxS view model evaluations\u001b[39;00m\n\u001b[1;32m    385\u001b[0m \u001b[38;5;28;01mfor\u001b[39;00m details \u001b[38;5;129;01min\u001b[39;00m \u001b[38;5;28mself\u001b[39m\u001b[38;5;241m.\u001b[39mtask_details:\n",
      "File \u001b[0;32m/usr/local/lib/python3.11/site-packages/google/cloud/aiplatform/pipeline_jobs.py:793\u001b[0m, in \u001b[0;36mPipelineJob._block_until_complete\u001b[0;34m(self)\u001b[0m\n\u001b[1;32m    790\u001b[0m \u001b[38;5;66;03m# Error is only populated when the job state is\u001b[39;00m\n\u001b[1;32m    791\u001b[0m \u001b[38;5;66;03m# JOB_STATE_FAILED or JOB_STATE_CANCELLED.\u001b[39;00m\n\u001b[1;32m    792\u001b[0m \u001b[38;5;28;01mif\u001b[39;00m \u001b[38;5;28mself\u001b[39m\u001b[38;5;241m.\u001b[39m_gca_resource\u001b[38;5;241m.\u001b[39mstate \u001b[38;5;129;01min\u001b[39;00m _PIPELINE_ERROR_STATES:\n\u001b[0;32m--> 793\u001b[0m     \u001b[38;5;28;01mraise\u001b[39;00m \u001b[38;5;167;01mRuntimeError\u001b[39;00m(\u001b[38;5;124m\"\u001b[39m\u001b[38;5;124mJob failed with:\u001b[39m\u001b[38;5;130;01m\\n\u001b[39;00m\u001b[38;5;132;01m%s\u001b[39;00m\u001b[38;5;124m\"\u001b[39m \u001b[38;5;241m%\u001b[39m \u001b[38;5;28mself\u001b[39m\u001b[38;5;241m.\u001b[39m_gca_resource\u001b[38;5;241m.\u001b[39merror)\n\u001b[1;32m    794\u001b[0m \u001b[38;5;28;01melse\u001b[39;00m:\n\u001b[1;32m    795\u001b[0m     _LOGGER\u001b[38;5;241m.\u001b[39mlog_action_completed_against_resource(\u001b[38;5;124m\"\u001b[39m\u001b[38;5;124mrun\u001b[39m\u001b[38;5;124m\"\u001b[39m, \u001b[38;5;124m\"\u001b[39m\u001b[38;5;124mcompleted\u001b[39m\u001b[38;5;124m\"\u001b[39m, \u001b[38;5;28mself\u001b[39m)\n",
      "\u001b[0;31mRuntimeError\u001b[0m: Job failed with:\ncode: 9\nmessage: \" The DAG failed because some tasks failed. The failed tasks are: [train-model].; Job (project_id = pebolas-sandbox, job_id = 81823456315834368) is failed due to the above error.; Failed to handle the job: {project_number = 470842673491, job_id = 81823456315834368}\"\n"
     ]
    }
   ],
   "source": [
    "job.run()"
   ]
  },
  {
   "cell_type": "code",
   "execution_count": null,
   "metadata": {},
   "outputs": [],
   "source": []
  }
 ],
 "metadata": {
  "kernelspec": {
   "display_name": "Python 3",
   "language": "python",
   "name": "python3"
  },
  "language_info": {
   "codemirror_mode": {
    "name": "ipython",
    "version": 3
   },
   "file_extension": ".py",
   "mimetype": "text/x-python",
   "name": "python",
   "nbconvert_exporter": "python",
   "pygments_lexer": "ipython3",
   "version": "3.11.10"
  }
 },
 "nbformat": 4,
 "nbformat_minor": 2
}
