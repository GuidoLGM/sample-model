{
 "cells": [
  {
   "cell_type": "code",
   "execution_count": 4,
   "metadata": {},
   "outputs": [
    {
     "name": "stdout",
     "output_type": "stream",
     "text": [
      "\u001b[1A\u001b[1B\u001b[0G\u001b[?25l[+] Building 0.0s (0/0)  docker:default\n",
      "\u001b[?25h\u001b[1A\u001b[0G\u001b[?25l[+] Building 0.0s (0/1)                                          docker:default\n",
      "\u001b[?25h\u001b[1A\u001b[0G\u001b[?25l[+] Building 0.2s (1/2)                                          docker:default\n",
      "\u001b[34m => [internal] load build definition from Dockerfile                       0.0s\n",
      "\u001b[0m\u001b[34m => => transferring dockerfile: 346B                                       0.0s\n",
      "\u001b[0m => [internal] load metadata for docker.io/library/python:3.11-slim        0.2s\n",
      "\u001b[?25h\u001b[1A\u001b[1A\u001b[1A\u001b[1A\u001b[0G\u001b[?25l[+] Building 0.3s (1/2)                                          docker:default\n",
      "\u001b[34m => [internal] load build definition from Dockerfile                       0.0s\n",
      "\u001b[0m\u001b[34m => => transferring dockerfile: 346B                                       0.0s\n",
      "\u001b[0m => [internal] load metadata for docker.io/library/python:3.11-slim        0.3s\n",
      "\u001b[?25h\u001b[1A\u001b[1A\u001b[1A\u001b[1A\u001b[0G\u001b[?25l[+] Building 0.5s (1/2)                                          docker:default\n",
      "\u001b[34m => [internal] load build definition from Dockerfile                       0.0s\n",
      "\u001b[0m\u001b[34m => => transferring dockerfile: 346B                                       0.0s\n",
      "\u001b[0m => [internal] load metadata for docker.io/library/python:3.11-slim        0.5s\n",
      "\u001b[?25h\u001b[1A\u001b[1A\u001b[1A\u001b[1A\u001b[0G\u001b[?25l[+] Building 0.6s (1/2)                                          docker:default\n",
      "\u001b[34m => [internal] load build definition from Dockerfile                       0.0s\n",
      "\u001b[0m\u001b[34m => => transferring dockerfile: 346B                                       0.0s\n",
      "\u001b[0m => [internal] load metadata for docker.io/library/python:3.11-slim        0.6s\n",
      "\u001b[?25h\u001b[1A\u001b[1A\u001b[1A\u001b[1A\u001b[0G\u001b[?25l[+] Building 0.8s (1/2)                                          docker:default\n",
      "\u001b[34m => [internal] load build definition from Dockerfile                       0.0s\n",
      "\u001b[0m\u001b[34m => => transferring dockerfile: 346B                                       0.0s\n",
      "\u001b[0m => [internal] load metadata for docker.io/library/python:3.11-slim        0.8s\n",
      "\u001b[?25h\u001b[1A\u001b[1A\u001b[1A\u001b[1A\u001b[0G\u001b[?25l[+] Building 0.8s (2/2)                                          docker:default\n",
      "\u001b[34m => [internal] load build definition from Dockerfile                       0.0s\n",
      "\u001b[0m\u001b[34m => => transferring dockerfile: 346B                                       0.0s\n",
      "\u001b[0m\u001b[34m => [internal] load metadata for docker.io/library/python:3.11-slim        0.8s\n",
      "\u001b[0m\u001b[?25h\u001b[1A\u001b[1A\u001b[1A\u001b[1A\u001b[0G\u001b[?25l[+] Building 0.9s (10/10) FINISHED                               docker:default\n",
      "\u001b[34m => [internal] load build definition from Dockerfile                       0.0s\n",
      "\u001b[0m\u001b[34m => => transferring dockerfile: 346B                                       0.0s\n",
      "\u001b[0m\u001b[34m => [internal] load metadata for docker.io/library/python:3.11-slim        0.8s\n",
      "\u001b[0m\u001b[34m => [internal] load .dockerignore                                          0.0s\n",
      "\u001b[0m\u001b[34m => => transferring context: 2B                                            0.0s\n",
      "\u001b[0m\u001b[34m => [1/5] FROM docker.io/library/python:3.11-slim@sha256:5501a4fe605abe24  0.0s\n",
      "\u001b[0m\u001b[34m => [internal] load build context                                          0.0s\n",
      "\u001b[0m\u001b[34m => => transferring context: 63B                                           0.0s\n",
      "\u001b[0m\u001b[34m => CACHED [2/5] RUN python3.11 -m pip install --upgrade pip setuptools w  0.0s\n",
      "\u001b[0m\u001b[34m => CACHED [3/5] COPY requirements.txt /tmp/requirements.txt               0.0s\n",
      "\u001b[0m\u001b[34m => CACHED [4/5] RUN python3.11 -m pip install --no-cache-dir -r /tmp/req  0.0s\n",
      "\u001b[0m\u001b[34m => CACHED [5/5] COPY app.py ./app.py                                      0.0s\n",
      "\u001b[0m\u001b[34m => exporting to image                                                     0.0s\n",
      "\u001b[0m\u001b[34m => => exporting layers                                                    0.0s\n",
      "\u001b[0m\u001b[34m => => writing image sha256:79c6fe17b9dc345292239ebc9754ef20c1e01551353da  0.0s\n",
      "\u001b[0m\u001b[34m => => naming to southamerica-east1-docker.pkg.dev/pebolas-sandbox/sample  0.0s\n",
      "\u001b[0m\u001b[?25hThe push refers to repository [southamerica-east1-docker.pkg.dev/pebolas-sandbox/sample-model/deploy_model]\n",
      "\n",
      "\u001b[1B2afb43b1: Preparing \n",
      "\u001b[1Bfe02947b: Preparing \n",
      "\u001b[1Bab91a997: Preparing \n",
      "\u001b[1B280c2fe4: Preparing \n",
      "\u001b[1B45d52b36: Preparing \n",
      "\u001b[1Bbb7d3a14: Preparing \n",
      "\u001b[1B3090c894: Preparing \n",
      "\u001b[2B3090c894: Waiting g denied: Unauthenticated request. Unauthenticated requests do not have permission \"artifactregistry.repositories.uploadArtifacts\" on resource \"projects/pebolas-sandbox/locations/southamerica-east1/repositories/sample-model\" (or it may not exist)\n"
     ]
    }
   ],
   "source": [
    "!docker build -t southamerica-east1-docker.pkg.dev/pebolas-sandbox/sample-model/deploy_model:latest --file Dockerfile .\n",
    "!docker push southamerica-east1-docker.pkg.dev/pebolas-sandbox/sample-model/deploy_model:latest"
   ]
  },
  {
   "cell_type": "code",
   "execution_count": 5,
   "metadata": {},
   "outputs": [],
   "source": [
    "from google.cloud import aiplatform"
   ]
  },
  {
   "cell_type": "code",
   "execution_count": 9,
   "metadata": {},
   "outputs": [
    {
     "name": "stdout",
     "output_type": "stream",
     "text": [
      "Creating Model\n",
      "Create Model backing LRO: projects/470842673491/locations/southamerica-east1/models/6243757098232971264/operations/5741030145444020224\n",
      "Model created. Resource name: projects/470842673491/locations/southamerica-east1/models/6243757098232971264@1\n",
      "To use this Model in another session:\n",
      "model = aiplatform.Model('projects/470842673491/locations/southamerica-east1/models/6243757098232971264@1')\n"
     ]
    }
   ],
   "source": [
    "model = aiplatform.Model.upload(\n",
    "    display_name=\"test_model\",\n",
    "    project=\"pebolas-sandbox\",\n",
    "    location=\"southamerica-east1\",\n",
    "    serving_container_image_uri=\"southamerica-east1-docker.pkg.dev/pebolas-sandbox/sample-model/deploy_model:latest\",\n",
    "    serving_container_predict_route=\"/predict\",\n",
    "    serving_container_health_route=\"/health\"\n",
    ")"
   ]
  },
  {
   "cell_type": "code",
   "execution_count": 16,
   "metadata": {},
   "outputs": [
    {
     "name": "stdout",
     "output_type": "stream",
     "text": [
      "<google.cloud.aiplatform.models.Model object at 0x7f3808413bd0> \n",
      "resource name: projects/470842673491/locations/southamerica-east1/models/6243757098232971264\n"
     ]
    }
   ],
   "source": [
    "print(model)"
   ]
  },
  {
   "cell_type": "code",
   "execution_count": 14,
   "metadata": {},
   "outputs": [
    {
     "name": "stdout",
     "output_type": "stream",
     "text": [
      "Model resource name: projects/470842673491/locations/southamerica-east1/models/6243757098232971264\n"
     ]
    }
   ],
   "source": [
    "print(f\"Model resource name: {model.resource_name}\")\n"
   ]
  },
  {
   "cell_type": "code",
   "execution_count": 22,
   "metadata": {},
   "outputs": [
    {
     "name": "stdout",
     "output_type": "stream",
     "text": [
      "Creating BatchPredictionJob\n",
      "BatchPredictionJob created. Resource name: projects/470842673491/locations/southamerica-east1/batchPredictionJobs/6255646117464113152\n",
      "To use this BatchPredictionJob in another session:\n",
      "bpj = aiplatform.BatchPredictionJob('projects/470842673491/locations/southamerica-east1/batchPredictionJobs/6255646117464113152')\n",
      "View Batch Prediction Job:\n",
      "https://console.cloud.google.com/ai/platform/locations/southamerica-east1/batch-predictions/6255646117464113152?project=470842673491\n",
      "BatchPredictionJob projects/470842673491/locations/southamerica-east1/batchPredictionJobs/6255646117464113152 current state:\n",
      "3\n",
      "BatchPredictionJob projects/470842673491/locations/southamerica-east1/batchPredictionJobs/6255646117464113152 current state:\n",
      "3\n",
      "BatchPredictionJob projects/470842673491/locations/southamerica-east1/batchPredictionJobs/6255646117464113152 current state:\n",
      "3\n",
      "BatchPredictionJob projects/470842673491/locations/southamerica-east1/batchPredictionJobs/6255646117464113152 current state:\n",
      "3\n",
      "BatchPredictionJob projects/470842673491/locations/southamerica-east1/batchPredictionJobs/6255646117464113152 current state:\n",
      "3\n",
      "BatchPredictionJob projects/470842673491/locations/southamerica-east1/batchPredictionJobs/6255646117464113152 current state:\n",
      "3\n",
      "BatchPredictionJob projects/470842673491/locations/southamerica-east1/batchPredictionJobs/6255646117464113152 current state:\n",
      "3\n",
      "BatchPredictionJob projects/470842673491/locations/southamerica-east1/batchPredictionJobs/6255646117464113152 current state:\n",
      "3\n",
      "BatchPredictionJob projects/470842673491/locations/southamerica-east1/batchPredictionJobs/6255646117464113152 current state:\n",
      "5\n"
     ]
    },
    {
     "ename": "RuntimeError",
     "evalue": "Job failed with:\ncode: 9\nmessage: \"Model server terminated: model server container terminated: go/debugstr  \\nexit_code: 0\\nreason: \\\"Completed\\\"\\nstarted_at {\\n  seconds: 1728481082\\n}\\nfinished_at {\\n  seconds: 1728481082\\n}\\n. \"\n",
     "output_type": "error",
     "traceback": [
      "\u001b[0;31m---------------------------------------------------------------------------\u001b[0m",
      "\u001b[0;31mRuntimeError\u001b[0m                              Traceback (most recent call last)",
      "Cell \u001b[0;32mIn[22], line 1\u001b[0m\n\u001b[0;32m----> 1\u001b[0m \u001b[43mmodel\u001b[49m\u001b[38;5;241;43m.\u001b[39;49m\u001b[43mbatch_predict\u001b[49m\u001b[43m(\u001b[49m\n\u001b[1;32m      2\u001b[0m \u001b[43m    \u001b[49m\u001b[43mjob_display_name\u001b[49m\u001b[38;5;241;43m=\u001b[39;49m\u001b[38;5;124;43m\"\u001b[39;49m\u001b[38;5;124;43mtest_batch_predict\u001b[39;49m\u001b[38;5;124;43m\"\u001b[39;49m\u001b[43m,\u001b[49m\n\u001b[1;32m      3\u001b[0m \u001b[43m    \u001b[49m\u001b[43mgcs_source\u001b[49m\u001b[38;5;241;43m=\u001b[39;49m\u001b[38;5;124;43m\"\u001b[39;49m\u001b[38;5;124;43mgs://pebolas-sandbox-vertex-staging-southamerica-east1/test.jsonl\u001b[39;49m\u001b[38;5;124;43m\"\u001b[39;49m\u001b[43m,\u001b[49m\n\u001b[1;32m      4\u001b[0m \u001b[43m    \u001b[49m\u001b[43mgcs_destination_prefix\u001b[49m\u001b[38;5;241;43m=\u001b[39;49m\u001b[38;5;124;43m\"\u001b[39;49m\u001b[38;5;124;43mgs://pebolas-sandbox-vertex-staging-southamerica-east1/\u001b[39;49m\u001b[38;5;124;43m\"\u001b[39;49m\u001b[43m,\u001b[49m\n\u001b[1;32m      5\u001b[0m \u001b[43m    \u001b[49m\u001b[43mmachine_type\u001b[49m\u001b[38;5;241;43m=\u001b[39;49m\u001b[38;5;124;43m\"\u001b[39;49m\u001b[38;5;124;43mn1-standard-2\u001b[39;49m\u001b[38;5;124;43m\"\u001b[39;49m\u001b[43m,\u001b[49m\n\u001b[1;32m      6\u001b[0m \u001b[43m    \u001b[49m\u001b[43msync\u001b[49m\u001b[38;5;241;43m=\u001b[39;49m\u001b[38;5;28;43;01mTrue\u001b[39;49;00m\u001b[43m)\u001b[49m\n",
      "File \u001b[0;32m/usr/local/lib/python3.11/site-packages/google/cloud/aiplatform/models.py:5701\u001b[0m, in \u001b[0;36mModel.batch_predict\u001b[0;34m(self, job_display_name, gcs_source, bigquery_source, instances_format, gcs_destination_prefix, bigquery_destination_prefix, predictions_format, model_parameters, machine_type, accelerator_type, accelerator_count, starting_replica_count, max_replica_count, generate_explanation, explanation_metadata, explanation_parameters, labels, credentials, encryption_spec_key_name, sync, create_request_timeout, batch_size, service_account)\u001b[0m\n\u001b[1;32m   5504\u001b[0m \u001b[38;5;28;01mdef\u001b[39;00m \u001b[38;5;21mbatch_predict\u001b[39m(\n\u001b[1;32m   5505\u001b[0m     \u001b[38;5;28mself\u001b[39m,\n\u001b[1;32m   5506\u001b[0m     job_display_name: Optional[\u001b[38;5;28mstr\u001b[39m] \u001b[38;5;241m=\u001b[39m \u001b[38;5;28;01mNone\u001b[39;00m,\n\u001b[0;32m   (...)\u001b[0m\n\u001b[1;32m   5530\u001b[0m     service_account: Optional[\u001b[38;5;28mstr\u001b[39m] \u001b[38;5;241m=\u001b[39m \u001b[38;5;28;01mNone\u001b[39;00m,\n\u001b[1;32m   5531\u001b[0m ) \u001b[38;5;241m-\u001b[39m\u001b[38;5;241m>\u001b[39m jobs\u001b[38;5;241m.\u001b[39mBatchPredictionJob:\n\u001b[1;32m   5532\u001b[0m \u001b[38;5;250m    \u001b[39m\u001b[38;5;124;03m\"\"\"Creates a batch prediction job using this Model and outputs\u001b[39;00m\n\u001b[1;32m   5533\u001b[0m \u001b[38;5;124;03m    prediction results to the provided destination prefix in the specified\u001b[39;00m\n\u001b[1;32m   5534\u001b[0m \u001b[38;5;124;03m    `predictions_format`. One source and one destination prefix are\u001b[39;00m\n\u001b[0;32m   (...)\u001b[0m\n\u001b[1;32m   5698\u001b[0m \u001b[38;5;124;03m            Instantiated representation of the created batch prediction job.\u001b[39;00m\n\u001b[1;32m   5699\u001b[0m \u001b[38;5;124;03m    \"\"\"\u001b[39;00m\n\u001b[0;32m-> 5701\u001b[0m     \u001b[38;5;28;01mreturn\u001b[39;00m \u001b[43mjobs\u001b[49m\u001b[38;5;241;43m.\u001b[39;49m\u001b[43mBatchPredictionJob\u001b[49m\u001b[38;5;241;43m.\u001b[39;49m\u001b[43mcreate\u001b[49m\u001b[43m(\u001b[49m\n\u001b[1;32m   5702\u001b[0m \u001b[43m        \u001b[49m\u001b[43mjob_display_name\u001b[49m\u001b[38;5;241;43m=\u001b[39;49m\u001b[43mjob_display_name\u001b[49m\u001b[43m,\u001b[49m\n\u001b[1;32m   5703\u001b[0m \u001b[43m        \u001b[49m\u001b[43mmodel_name\u001b[49m\u001b[38;5;241;43m=\u001b[39;49m\u001b[38;5;28;43mself\u001b[39;49m\u001b[43m,\u001b[49m\n\u001b[1;32m   5704\u001b[0m \u001b[43m        \u001b[49m\u001b[43minstances_format\u001b[49m\u001b[38;5;241;43m=\u001b[39;49m\u001b[43minstances_format\u001b[49m\u001b[43m,\u001b[49m\n\u001b[1;32m   5705\u001b[0m \u001b[43m        \u001b[49m\u001b[43mpredictions_format\u001b[49m\u001b[38;5;241;43m=\u001b[39;49m\u001b[43mpredictions_format\u001b[49m\u001b[43m,\u001b[49m\n\u001b[1;32m   5706\u001b[0m \u001b[43m        \u001b[49m\u001b[43mgcs_source\u001b[49m\u001b[38;5;241;43m=\u001b[39;49m\u001b[43mgcs_source\u001b[49m\u001b[43m,\u001b[49m\n\u001b[1;32m   5707\u001b[0m \u001b[43m        \u001b[49m\u001b[43mbigquery_source\u001b[49m\u001b[38;5;241;43m=\u001b[39;49m\u001b[43mbigquery_source\u001b[49m\u001b[43m,\u001b[49m\n\u001b[1;32m   5708\u001b[0m \u001b[43m        \u001b[49m\u001b[43mgcs_destination_prefix\u001b[49m\u001b[38;5;241;43m=\u001b[39;49m\u001b[43mgcs_destination_prefix\u001b[49m\u001b[43m,\u001b[49m\n\u001b[1;32m   5709\u001b[0m \u001b[43m        \u001b[49m\u001b[43mbigquery_destination_prefix\u001b[49m\u001b[38;5;241;43m=\u001b[39;49m\u001b[43mbigquery_destination_prefix\u001b[49m\u001b[43m,\u001b[49m\n\u001b[1;32m   5710\u001b[0m \u001b[43m        \u001b[49m\u001b[43mmodel_parameters\u001b[49m\u001b[38;5;241;43m=\u001b[39;49m\u001b[43mmodel_parameters\u001b[49m\u001b[43m,\u001b[49m\n\u001b[1;32m   5711\u001b[0m \u001b[43m        \u001b[49m\u001b[43mmachine_type\u001b[49m\u001b[38;5;241;43m=\u001b[39;49m\u001b[43mmachine_type\u001b[49m\u001b[43m,\u001b[49m\n\u001b[1;32m   5712\u001b[0m \u001b[43m        \u001b[49m\u001b[43maccelerator_type\u001b[49m\u001b[38;5;241;43m=\u001b[39;49m\u001b[43maccelerator_type\u001b[49m\u001b[43m,\u001b[49m\n\u001b[1;32m   5713\u001b[0m \u001b[43m        \u001b[49m\u001b[43maccelerator_count\u001b[49m\u001b[38;5;241;43m=\u001b[39;49m\u001b[43maccelerator_count\u001b[49m\u001b[43m,\u001b[49m\n\u001b[1;32m   5714\u001b[0m \u001b[43m        \u001b[49m\u001b[43mstarting_replica_count\u001b[49m\u001b[38;5;241;43m=\u001b[39;49m\u001b[43mstarting_replica_count\u001b[49m\u001b[43m,\u001b[49m\n\u001b[1;32m   5715\u001b[0m \u001b[43m        \u001b[49m\u001b[43mmax_replica_count\u001b[49m\u001b[38;5;241;43m=\u001b[39;49m\u001b[43mmax_replica_count\u001b[49m\u001b[43m,\u001b[49m\n\u001b[1;32m   5716\u001b[0m \u001b[43m        \u001b[49m\u001b[43mbatch_size\u001b[49m\u001b[38;5;241;43m=\u001b[39;49m\u001b[43mbatch_size\u001b[49m\u001b[43m,\u001b[49m\n\u001b[1;32m   5717\u001b[0m \u001b[43m        \u001b[49m\u001b[43mgenerate_explanation\u001b[49m\u001b[38;5;241;43m=\u001b[39;49m\u001b[43mgenerate_explanation\u001b[49m\u001b[43m,\u001b[49m\n\u001b[1;32m   5718\u001b[0m \u001b[43m        \u001b[49m\u001b[43mexplanation_metadata\u001b[49m\u001b[38;5;241;43m=\u001b[39;49m\u001b[43mexplanation_metadata\u001b[49m\u001b[43m,\u001b[49m\n\u001b[1;32m   5719\u001b[0m \u001b[43m        \u001b[49m\u001b[43mexplanation_parameters\u001b[49m\u001b[38;5;241;43m=\u001b[39;49m\u001b[43mexplanation_parameters\u001b[49m\u001b[43m,\u001b[49m\n\u001b[1;32m   5720\u001b[0m \u001b[43m        \u001b[49m\u001b[43mlabels\u001b[49m\u001b[38;5;241;43m=\u001b[39;49m\u001b[43mlabels\u001b[49m\u001b[43m,\u001b[49m\n\u001b[1;32m   5721\u001b[0m \u001b[43m        \u001b[49m\u001b[43mproject\u001b[49m\u001b[38;5;241;43m=\u001b[39;49m\u001b[38;5;28;43mself\u001b[39;49m\u001b[38;5;241;43m.\u001b[39;49m\u001b[43mproject\u001b[49m\u001b[43m,\u001b[49m\n\u001b[1;32m   5722\u001b[0m \u001b[43m        \u001b[49m\u001b[43mlocation\u001b[49m\u001b[38;5;241;43m=\u001b[39;49m\u001b[38;5;28;43mself\u001b[39;49m\u001b[38;5;241;43m.\u001b[39;49m\u001b[43mlocation\u001b[49m\u001b[43m,\u001b[49m\n\u001b[1;32m   5723\u001b[0m \u001b[43m        \u001b[49m\u001b[43mcredentials\u001b[49m\u001b[38;5;241;43m=\u001b[39;49m\u001b[43mcredentials\u001b[49m\u001b[43m \u001b[49m\u001b[38;5;129;43;01mor\u001b[39;49;00m\u001b[43m \u001b[49m\u001b[38;5;28;43mself\u001b[39;49m\u001b[38;5;241;43m.\u001b[39;49m\u001b[43mcredentials\u001b[49m\u001b[43m,\u001b[49m\n\u001b[1;32m   5724\u001b[0m \u001b[43m        \u001b[49m\u001b[43mencryption_spec_key_name\u001b[49m\u001b[38;5;241;43m=\u001b[39;49m\u001b[43mencryption_spec_key_name\u001b[49m\u001b[43m,\u001b[49m\n\u001b[1;32m   5725\u001b[0m \u001b[43m        \u001b[49m\u001b[43msync\u001b[49m\u001b[38;5;241;43m=\u001b[39;49m\u001b[43msync\u001b[49m\u001b[43m,\u001b[49m\n\u001b[1;32m   5726\u001b[0m \u001b[43m        \u001b[49m\u001b[43mcreate_request_timeout\u001b[49m\u001b[38;5;241;43m=\u001b[39;49m\u001b[43mcreate_request_timeout\u001b[49m\u001b[43m,\u001b[49m\n\u001b[1;32m   5727\u001b[0m \u001b[43m        \u001b[49m\u001b[43mservice_account\u001b[49m\u001b[38;5;241;43m=\u001b[39;49m\u001b[43mservice_account\u001b[49m\u001b[43m,\u001b[49m\n\u001b[1;32m   5728\u001b[0m \u001b[43m    \u001b[49m\u001b[43m)\u001b[49m\n",
      "File \u001b[0;32m/usr/local/lib/python3.11/site-packages/google/cloud/aiplatform/jobs.py:620\u001b[0m, in \u001b[0;36mBatchPredictionJob.create\u001b[0;34m(cls, job_display_name, model_name, instances_format, predictions_format, gcs_source, bigquery_source, gcs_destination_prefix, bigquery_destination_prefix, model_parameters, machine_type, accelerator_type, accelerator_count, starting_replica_count, max_replica_count, generate_explanation, explanation_metadata, explanation_parameters, labels, project, location, credentials, encryption_spec_key_name, sync, create_request_timeout, batch_size, model_monitoring_objective_config, model_monitoring_alert_config, analysis_instance_schema_uri, service_account)\u001b[0m\n\u001b[1;32m    391\u001b[0m \u001b[38;5;129m@classmethod\u001b[39m\n\u001b[1;32m    392\u001b[0m \u001b[38;5;28;01mdef\u001b[39;00m \u001b[38;5;21mcreate\u001b[39m(\n\u001b[1;32m    393\u001b[0m     \u001b[38;5;28mcls\u001b[39m,\n\u001b[0;32m   (...)\u001b[0m\n\u001b[1;32m    429\u001b[0m     service_account: Optional[\u001b[38;5;28mstr\u001b[39m] \u001b[38;5;241m=\u001b[39m \u001b[38;5;28;01mNone\u001b[39;00m,\n\u001b[1;32m    430\u001b[0m ) \u001b[38;5;241m-\u001b[39m\u001b[38;5;241m>\u001b[39m \u001b[38;5;124m\"\u001b[39m\u001b[38;5;124mBatchPredictionJob\u001b[39m\u001b[38;5;124m\"\u001b[39m:\n\u001b[1;32m    431\u001b[0m \u001b[38;5;250m    \u001b[39m\u001b[38;5;124;03m\"\"\"Create a batch prediction job.\u001b[39;00m\n\u001b[1;32m    432\u001b[0m \n\u001b[1;32m    433\u001b[0m \u001b[38;5;124;03m    Args:\u001b[39;00m\n\u001b[0;32m   (...)\u001b[0m\n\u001b[1;32m    618\u001b[0m \u001b[38;5;124;03m            Instantiated representation of the created batch prediction job.\u001b[39;00m\n\u001b[1;32m    619\u001b[0m \u001b[38;5;124;03m    \"\"\"\u001b[39;00m\n\u001b[0;32m--> 620\u001b[0m     \u001b[38;5;28;01mreturn\u001b[39;00m \u001b[38;5;28;43mcls\u001b[39;49m\u001b[38;5;241;43m.\u001b[39;49m\u001b[43m_submit_impl\u001b[49m\u001b[43m(\u001b[49m\n\u001b[1;32m    621\u001b[0m \u001b[43m        \u001b[49m\u001b[43mjob_display_name\u001b[49m\u001b[38;5;241;43m=\u001b[39;49m\u001b[43mjob_display_name\u001b[49m\u001b[43m,\u001b[49m\n\u001b[1;32m    622\u001b[0m \u001b[43m        \u001b[49m\u001b[43mmodel_name\u001b[49m\u001b[38;5;241;43m=\u001b[39;49m\u001b[43mmodel_name\u001b[49m\u001b[43m,\u001b[49m\n\u001b[1;32m    623\u001b[0m \u001b[43m        \u001b[49m\u001b[43minstances_format\u001b[49m\u001b[38;5;241;43m=\u001b[39;49m\u001b[43minstances_format\u001b[49m\u001b[43m,\u001b[49m\n\u001b[1;32m    624\u001b[0m \u001b[43m        \u001b[49m\u001b[43mpredictions_format\u001b[49m\u001b[38;5;241;43m=\u001b[39;49m\u001b[43mpredictions_format\u001b[49m\u001b[43m,\u001b[49m\n\u001b[1;32m    625\u001b[0m \u001b[43m        \u001b[49m\u001b[43mgcs_source\u001b[49m\u001b[38;5;241;43m=\u001b[39;49m\u001b[43mgcs_source\u001b[49m\u001b[43m,\u001b[49m\n\u001b[1;32m    626\u001b[0m \u001b[43m        \u001b[49m\u001b[43mbigquery_source\u001b[49m\u001b[38;5;241;43m=\u001b[39;49m\u001b[43mbigquery_source\u001b[49m\u001b[43m,\u001b[49m\n\u001b[1;32m    627\u001b[0m \u001b[43m        \u001b[49m\u001b[43mgcs_destination_prefix\u001b[49m\u001b[38;5;241;43m=\u001b[39;49m\u001b[43mgcs_destination_prefix\u001b[49m\u001b[43m,\u001b[49m\n\u001b[1;32m    628\u001b[0m \u001b[43m        \u001b[49m\u001b[43mbigquery_destination_prefix\u001b[49m\u001b[38;5;241;43m=\u001b[39;49m\u001b[43mbigquery_destination_prefix\u001b[49m\u001b[43m,\u001b[49m\n\u001b[1;32m    629\u001b[0m \u001b[43m        \u001b[49m\u001b[43mmodel_parameters\u001b[49m\u001b[38;5;241;43m=\u001b[39;49m\u001b[43mmodel_parameters\u001b[49m\u001b[43m,\u001b[49m\n\u001b[1;32m    630\u001b[0m \u001b[43m        \u001b[49m\u001b[43mmachine_type\u001b[49m\u001b[38;5;241;43m=\u001b[39;49m\u001b[43mmachine_type\u001b[49m\u001b[43m,\u001b[49m\n\u001b[1;32m    631\u001b[0m \u001b[43m        \u001b[49m\u001b[43maccelerator_type\u001b[49m\u001b[38;5;241;43m=\u001b[39;49m\u001b[43maccelerator_type\u001b[49m\u001b[43m,\u001b[49m\n\u001b[1;32m    632\u001b[0m \u001b[43m        \u001b[49m\u001b[43maccelerator_count\u001b[49m\u001b[38;5;241;43m=\u001b[39;49m\u001b[43maccelerator_count\u001b[49m\u001b[43m,\u001b[49m\n\u001b[1;32m    633\u001b[0m \u001b[43m        \u001b[49m\u001b[43mstarting_replica_count\u001b[49m\u001b[38;5;241;43m=\u001b[39;49m\u001b[43mstarting_replica_count\u001b[49m\u001b[43m,\u001b[49m\n\u001b[1;32m    634\u001b[0m \u001b[43m        \u001b[49m\u001b[43mmax_replica_count\u001b[49m\u001b[38;5;241;43m=\u001b[39;49m\u001b[43mmax_replica_count\u001b[49m\u001b[43m,\u001b[49m\n\u001b[1;32m    635\u001b[0m \u001b[43m        \u001b[49m\u001b[43mgenerate_explanation\u001b[49m\u001b[38;5;241;43m=\u001b[39;49m\u001b[43mgenerate_explanation\u001b[49m\u001b[43m,\u001b[49m\n\u001b[1;32m    636\u001b[0m \u001b[43m        \u001b[49m\u001b[43mexplanation_metadata\u001b[49m\u001b[38;5;241;43m=\u001b[39;49m\u001b[43mexplanation_metadata\u001b[49m\u001b[43m,\u001b[49m\n\u001b[1;32m    637\u001b[0m \u001b[43m        \u001b[49m\u001b[43mexplanation_parameters\u001b[49m\u001b[38;5;241;43m=\u001b[39;49m\u001b[43mexplanation_parameters\u001b[49m\u001b[43m,\u001b[49m\n\u001b[1;32m    638\u001b[0m \u001b[43m        \u001b[49m\u001b[43mlabels\u001b[49m\u001b[38;5;241;43m=\u001b[39;49m\u001b[43mlabels\u001b[49m\u001b[43m,\u001b[49m\n\u001b[1;32m    639\u001b[0m \u001b[43m        \u001b[49m\u001b[43mproject\u001b[49m\u001b[38;5;241;43m=\u001b[39;49m\u001b[43mproject\u001b[49m\u001b[43m,\u001b[49m\n\u001b[1;32m    640\u001b[0m \u001b[43m        \u001b[49m\u001b[43mlocation\u001b[49m\u001b[38;5;241;43m=\u001b[39;49m\u001b[43mlocation\u001b[49m\u001b[43m,\u001b[49m\n\u001b[1;32m    641\u001b[0m \u001b[43m        \u001b[49m\u001b[43mcredentials\u001b[49m\u001b[38;5;241;43m=\u001b[39;49m\u001b[43mcredentials\u001b[49m\u001b[43m,\u001b[49m\n\u001b[1;32m    642\u001b[0m \u001b[43m        \u001b[49m\u001b[43mencryption_spec_key_name\u001b[49m\u001b[38;5;241;43m=\u001b[39;49m\u001b[43mencryption_spec_key_name\u001b[49m\u001b[43m,\u001b[49m\n\u001b[1;32m    643\u001b[0m \u001b[43m        \u001b[49m\u001b[43msync\u001b[49m\u001b[38;5;241;43m=\u001b[39;49m\u001b[43msync\u001b[49m\u001b[43m,\u001b[49m\n\u001b[1;32m    644\u001b[0m \u001b[43m        \u001b[49m\u001b[43mcreate_request_timeout\u001b[49m\u001b[38;5;241;43m=\u001b[39;49m\u001b[43mcreate_request_timeout\u001b[49m\u001b[43m,\u001b[49m\n\u001b[1;32m    645\u001b[0m \u001b[43m        \u001b[49m\u001b[43mbatch_size\u001b[49m\u001b[38;5;241;43m=\u001b[39;49m\u001b[43mbatch_size\u001b[49m\u001b[43m,\u001b[49m\n\u001b[1;32m    646\u001b[0m \u001b[43m        \u001b[49m\u001b[43mmodel_monitoring_objective_config\u001b[49m\u001b[38;5;241;43m=\u001b[39;49m\u001b[43mmodel_monitoring_objective_config\u001b[49m\u001b[43m,\u001b[49m\n\u001b[1;32m    647\u001b[0m \u001b[43m        \u001b[49m\u001b[43mmodel_monitoring_alert_config\u001b[49m\u001b[38;5;241;43m=\u001b[39;49m\u001b[43mmodel_monitoring_alert_config\u001b[49m\u001b[43m,\u001b[49m\n\u001b[1;32m    648\u001b[0m \u001b[43m        \u001b[49m\u001b[43manalysis_instance_schema_uri\u001b[49m\u001b[38;5;241;43m=\u001b[39;49m\u001b[43manalysis_instance_schema_uri\u001b[49m\u001b[43m,\u001b[49m\n\u001b[1;32m    649\u001b[0m \u001b[43m        \u001b[49m\u001b[43mservice_account\u001b[49m\u001b[38;5;241;43m=\u001b[39;49m\u001b[43mservice_account\u001b[49m\u001b[43m,\u001b[49m\n\u001b[1;32m    650\u001b[0m \u001b[43m        \u001b[49m\u001b[38;5;66;43;03m# Main distinction of `create` vs `submit`:\u001b[39;49;00m\n\u001b[1;32m    651\u001b[0m \u001b[43m        \u001b[49m\u001b[43mwait_for_completion\u001b[49m\u001b[38;5;241;43m=\u001b[39;49m\u001b[38;5;28;43;01mTrue\u001b[39;49;00m\u001b[43m,\u001b[49m\n\u001b[1;32m    652\u001b[0m \u001b[43m    \u001b[49m\u001b[43m)\u001b[49m\n",
      "File \u001b[0;32m/usr/local/lib/python3.11/site-packages/google/cloud/aiplatform/jobs.py:1337\u001b[0m, in \u001b[0;36mBatchPredictionJob._submit_impl\u001b[0;34m(cls, job_display_name, model_name, instances_format, predictions_format, gcs_source, bigquery_source, gcs_destination_prefix, bigquery_destination_prefix, model_parameters, machine_type, accelerator_type, accelerator_count, starting_replica_count, max_replica_count, generate_explanation, explanation_metadata, explanation_parameters, labels, project, location, credentials, encryption_spec_key_name, sync, create_request_timeout, batch_size, model_monitoring_objective_config, model_monitoring_alert_config, analysis_instance_schema_uri, service_account, wait_for_completion)\u001b[0m\n\u001b[1;32m   1334\u001b[0m     gapic_batch_prediction_job\u001b[38;5;241m.\u001b[39mmodel_monitoring_config \u001b[38;5;241m=\u001b[39m gapic_mm_config\n\u001b[1;32m   1336\u001b[0m \u001b[38;5;66;03m# TODO(b/242108750): remove temporary logic once model monitoring for batch prediction is GA\u001b[39;00m\n\u001b[0;32m-> 1337\u001b[0m \u001b[38;5;28;01mreturn\u001b[39;00m \u001b[38;5;28;43mcls\u001b[39;49m\u001b[38;5;241;43m.\u001b[39;49m\u001b[43m_submit_and_optionally_wait_with_sync_support\u001b[49m\u001b[43m(\u001b[49m\n\u001b[1;32m   1338\u001b[0m \u001b[43m    \u001b[49m\u001b[43mempty_batch_prediction_job\u001b[49m\u001b[38;5;241;43m=\u001b[39;49m\u001b[43mempty_batch_prediction_job\u001b[49m\u001b[43m,\u001b[49m\n\u001b[1;32m   1339\u001b[0m \u001b[43m    \u001b[49m\u001b[43mmodel_or_model_name\u001b[49m\u001b[38;5;241;43m=\u001b[39;49m\u001b[43mmodel_name\u001b[49m\u001b[43m,\u001b[49m\n\u001b[1;32m   1340\u001b[0m \u001b[43m    \u001b[49m\u001b[43mgca_batch_prediction_job\u001b[49m\u001b[38;5;241;43m=\u001b[39;49m\u001b[43mgapic_batch_prediction_job\u001b[49m\u001b[43m,\u001b[49m\n\u001b[1;32m   1341\u001b[0m \u001b[43m    \u001b[49m\u001b[43mgenerate_explanation\u001b[49m\u001b[38;5;241;43m=\u001b[39;49m\u001b[43mgenerate_explanation\u001b[49m\u001b[43m,\u001b[49m\n\u001b[1;32m   1342\u001b[0m \u001b[43m    \u001b[49m\u001b[43msync\u001b[49m\u001b[38;5;241;43m=\u001b[39;49m\u001b[43msync\u001b[49m\u001b[43m,\u001b[49m\n\u001b[1;32m   1343\u001b[0m \u001b[43m    \u001b[49m\u001b[43mcreate_request_timeout\u001b[49m\u001b[38;5;241;43m=\u001b[39;49m\u001b[43mcreate_request_timeout\u001b[49m\u001b[43m,\u001b[49m\n\u001b[1;32m   1344\u001b[0m \u001b[43m    \u001b[49m\u001b[43mwait_for_completion\u001b[49m\u001b[38;5;241;43m=\u001b[39;49m\u001b[43mwait_for_completion\u001b[49m\u001b[43m,\u001b[49m\n\u001b[1;32m   1345\u001b[0m \u001b[43m\u001b[49m\u001b[43m)\u001b[49m\n",
      "File \u001b[0;32m/usr/local/lib/python3.11/site-packages/google/cloud/aiplatform/base.py:863\u001b[0m, in \u001b[0;36moptional_sync.<locals>.optional_run_in_thread.<locals>.wrapper\u001b[0;34m(*args, **kwargs)\u001b[0m\n\u001b[1;32m    861\u001b[0m     \u001b[38;5;28;01mif\u001b[39;00m \u001b[38;5;28mself\u001b[39m:\n\u001b[1;32m    862\u001b[0m         VertexAiResourceNounWithFutureManager\u001b[38;5;241m.\u001b[39mwait(\u001b[38;5;28mself\u001b[39m)\n\u001b[0;32m--> 863\u001b[0m     \u001b[38;5;28;01mreturn\u001b[39;00m \u001b[43mmethod\u001b[49m\u001b[43m(\u001b[49m\u001b[38;5;241;43m*\u001b[39;49m\u001b[43margs\u001b[49m\u001b[43m,\u001b[49m\u001b[43m \u001b[49m\u001b[38;5;241;43m*\u001b[39;49m\u001b[38;5;241;43m*\u001b[39;49m\u001b[43mkwargs\u001b[49m\u001b[43m)\u001b[49m\n\u001b[1;32m    865\u001b[0m \u001b[38;5;66;03m# callbacks to call within the Future (in same Thread)\u001b[39;00m\n\u001b[1;32m    866\u001b[0m internal_callbacks \u001b[38;5;241m=\u001b[39m []\n",
      "File \u001b[0;32m/usr/local/lib/python3.11/site-packages/google/cloud/aiplatform/jobs.py:1422\u001b[0m, in \u001b[0;36mBatchPredictionJob._submit_and_optionally_wait_with_sync_support\u001b[0;34m(cls, empty_batch_prediction_job, model_or_model_name, gca_batch_prediction_job, generate_explanation, sync, create_request_timeout, wait_for_completion)\u001b[0m\n\u001b[1;32m   1418\u001b[0m _LOGGER\u001b[38;5;241m.\u001b[39minfo(\n\u001b[1;32m   1419\u001b[0m     \u001b[38;5;124m\"\u001b[39m\u001b[38;5;124mView Batch Prediction Job:\u001b[39m\u001b[38;5;130;01m\\n\u001b[39;00m\u001b[38;5;132;01m%s\u001b[39;00m\u001b[38;5;124m\"\u001b[39m \u001b[38;5;241m%\u001b[39m batch_prediction_job\u001b[38;5;241m.\u001b[39m_dashboard_uri()\n\u001b[1;32m   1420\u001b[0m )\n\u001b[1;32m   1421\u001b[0m \u001b[38;5;28;01mif\u001b[39;00m wait_for_completion:\n\u001b[0;32m-> 1422\u001b[0m     \u001b[43mbatch_prediction_job\u001b[49m\u001b[38;5;241;43m.\u001b[39;49m\u001b[43m_block_until_complete\u001b[49m\u001b[43m(\u001b[49m\u001b[43m)\u001b[49m\n\u001b[1;32m   1424\u001b[0m \u001b[38;5;28;01mreturn\u001b[39;00m batch_prediction_job\n",
      "File \u001b[0;32m/usr/local/lib/python3.11/site-packages/google/cloud/aiplatform/jobs.py:251\u001b[0m, in \u001b[0;36m_Job._block_until_complete\u001b[0;34m(self)\u001b[0m\n\u001b[1;32m    248\u001b[0m \u001b[38;5;66;03m# Error is only populated when the job state is\u001b[39;00m\n\u001b[1;32m    249\u001b[0m \u001b[38;5;66;03m# JOB_STATE_FAILED or JOB_STATE_CANCELLED.\u001b[39;00m\n\u001b[1;32m    250\u001b[0m \u001b[38;5;28;01mif\u001b[39;00m \u001b[38;5;28mself\u001b[39m\u001b[38;5;241m.\u001b[39m_gca_resource\u001b[38;5;241m.\u001b[39mstate \u001b[38;5;129;01min\u001b[39;00m _JOB_ERROR_STATES:\n\u001b[0;32m--> 251\u001b[0m     \u001b[38;5;28;01mraise\u001b[39;00m \u001b[38;5;167;01mRuntimeError\u001b[39;00m(\u001b[38;5;124m\"\u001b[39m\u001b[38;5;124mJob failed with:\u001b[39m\u001b[38;5;130;01m\\n\u001b[39;00m\u001b[38;5;132;01m%s\u001b[39;00m\u001b[38;5;124m\"\u001b[39m \u001b[38;5;241m%\u001b[39m \u001b[38;5;28mself\u001b[39m\u001b[38;5;241m.\u001b[39m_gca_resource\u001b[38;5;241m.\u001b[39merror)\n\u001b[1;32m    252\u001b[0m \u001b[38;5;28;01melse\u001b[39;00m:\n\u001b[1;32m    253\u001b[0m     _LOGGER\u001b[38;5;241m.\u001b[39mlog_action_completed_against_resource(\u001b[38;5;124m\"\u001b[39m\u001b[38;5;124mrun\u001b[39m\u001b[38;5;124m\"\u001b[39m, \u001b[38;5;124m\"\u001b[39m\u001b[38;5;124mcompleted\u001b[39m\u001b[38;5;124m\"\u001b[39m, \u001b[38;5;28mself\u001b[39m)\n",
      "\u001b[0;31mRuntimeError\u001b[0m: Job failed with:\ncode: 9\nmessage: \"Model server terminated: model server container terminated: go/debugstr  \\nexit_code: 0\\nreason: \\\"Completed\\\"\\nstarted_at {\\n  seconds: 1728481082\\n}\\nfinished_at {\\n  seconds: 1728481082\\n}\\n. \"\n"
     ]
    }
   ],
   "source": [
    "model.batch_predict(\n",
    "    job_display_name=\"test_batch_predict\",\n",
    "    gcs_source=\"gs://pebolas-sandbox-vertex-staging-southamerica-east1/test.jsonl\",\n",
    "    gcs_destination_prefix=\"gs://pebolas-sandbox-vertex-staging-southamerica-east1/\",\n",
    "    machine_type=\"n1-standard-2\",\n",
    "    sync=True)"
   ]
  },
  {
   "cell_type": "code",
   "execution_count": null,
   "metadata": {},
   "outputs": [],
   "source": []
  }
 ],
 "metadata": {
  "kernelspec": {
   "display_name": "Python 3",
   "language": "python",
   "name": "python3"
  },
  "language_info": {
   "codemirror_mode": {
    "name": "ipython",
    "version": 3
   },
   "file_extension": ".py",
   "mimetype": "text/x-python",
   "name": "python",
   "nbconvert_exporter": "python",
   "pygments_lexer": "ipython3",
   "version": "3.11.10"
  }
 },
 "nbformat": 4,
 "nbformat_minor": 2
}
