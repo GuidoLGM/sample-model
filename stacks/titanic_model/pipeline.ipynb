{
 "cells": [
  {
   "cell_type": "markdown",
   "metadata": {},
   "source": [
    "### Load Config File"
   ]
  },
  {
   "cell_type": "code",
   "execution_count": 26,
   "metadata": {},
   "outputs": [],
   "source": [
    "import yaml\n",
    "from box import ConfigBox\n",
    "\n",
    "\n",
    "with open(\"config.yaml\", \"r\") as ymlfile:\n",
    "    config = yaml.safe_load(ymlfile)\n",
    "\n",
    "config = ConfigBox(config)"
   ]
  },
  {
   "cell_type": "markdown",
   "metadata": {},
   "source": [
    "### Imports"
   ]
  },
  {
   "cell_type": "code",
   "execution_count": 27,
   "metadata": {},
   "outputs": [],
   "source": [
    "from google.cloud import aiplatform\n",
    "from google.cloud.aiplatform import TabularDataset\n",
    "from google.cloud.aiplatform import pipeline_jobs\n",
    "\n",
    "from typing import NamedTuple\n",
    "\n",
    "from kfp.dsl import component\n",
    "from kfp.dsl import pipeline\n",
    "from kfp import compiler\n",
    "from kfp.dsl import (Artifact, Model, Dataset, Input, Output, Metrics)\n",
    "from kfp import dsl"
   ]
  },
  {
   "cell_type": "markdown",
   "metadata": {},
   "source": [
    "### Components"
   ]
  },
  {
   "cell_type": "markdown",
   "metadata": {},
   "source": [
    "#### Preprocess"
   ]
  },
  {
   "cell_type": "code",
   "execution_count": 28,
   "metadata": {},
   "outputs": [],
   "source": [
    "@component(\n",
    "    base_image=\"python:3.11-slim\",\n",
    "    packages_to_install=[\n",
    "        config.packages.BIGQUERY, \n",
    "        config.packages.PANDAS,\n",
    "        config.packages.DB_TYPES\n",
    "    ]\n",
    ")\n",
    "def fetch_big_data_table(\n",
    "    project_id: str,\n",
    "    dataset_id: str,\n",
    "    table_id: str,\n",
    "    dataset_artifact: Output[Dataset]\n",
    "):\n",
    "    \n",
    "    from google.cloud import bigquery\n",
    "\n",
    "    client = bigquery.Client(project=project_id)\n",
    "    \n",
    "    query = f\"\"\"\n",
    "        SELECT *\n",
    "        FROM `{project_id}.{dataset_id}.{table_id}`\n",
    "        \"\"\"\n",
    "    \n",
    "    data = client.query(query).to_dataframe()\n",
    "    \n",
    "    data.to_csv(dataset_artifact.path, index=False)\n",
    "    "
   ]
  },
  {
   "cell_type": "code",
   "execution_count": 29,
   "metadata": {},
   "outputs": [],
   "source": [
    "@component(\n",
    "    base_image=\"southamerica-east1-docker.pkg.dev/pebolas-sandbox/sample-model/prepare_data:latest\"\n",
    ")\n",
    "def prepare_data(\n",
    "    input_data: Input[Dataset],\n",
    "    scaler_artifact: Output[Artifact],\n",
    "    dataset_artifact: Output[Dataset]\n",
    "    \n",
    "):\n",
    "    import pickle as pkl\n",
    "    import pandas as pd\n",
    "    from sklearn.preprocessing import StandardScaler\n",
    "    \n",
    "    data = pd.read_csv(input_data.path, index_col=False)\n",
    "    \n",
    "    data.Age = data.Age.fillna(data.Age.mean())\n",
    "\n",
    "    data.Embarked = data.Embarked.fillna(\n",
    "        data.Embarked.mode()[0]\n",
    "    )\n",
    "\n",
    "    data.drop(columns=[\"Cabin\", \"Name\", \"Ticket\"], inplace=True)\n",
    "\n",
    "    data.Sex = data.Sex.map({\"male\": 0, \"female\": 1})\n",
    "\n",
    "    data = pd.get_dummies(\n",
    "        data, columns=[\"Embarked\"], drop_first=True\n",
    "    )\n",
    "    \n",
    "    \n",
    "    scaler = StandardScaler()\n",
    "    \n",
    "    column_to_scale = [\"Age\", \"Fare\"]\n",
    "    data[column_to_scale] = scaler.fit_transform(\n",
    "            data[column_to_scale]\n",
    "        )\n",
    "    \n",
    "    with open(scaler_artifact.path, \"wb\") as f:\n",
    "        pkl.dump(scaler, f)\n",
    "        \n",
    "        \n",
    "    data.to_csv(dataset_artifact.path, index=False)\n",
    "\n",
    "    \n",
    "    "
   ]
  },
  {
   "cell_type": "code",
   "execution_count": 30,
   "metadata": {},
   "outputs": [],
   "source": [
    "@component(\n",
    "    base_image=\"python:3.11-slim\",\n",
    "    packages_to_install=[\n",
    "        config.packages.AIPLATFORM\n",
    "    ]\n",
    ")\n",
    "def create_dataset(\n",
    "    display_name: str,\n",
    "    dataset: Input[Dataset]\n",
    ") -> Dataset:\n",
    "    from google.cloud import aiplatform\n",
    "    \n",
    "    \n",
    "    aiplatform.init()\n",
    "    \n",
    "    \n",
    "    data = aiplatform.TabularDataset.create(\n",
    "        display_name=display_name,\n",
    "        gcs_source=dataset.uri\n",
    "    )\n",
    "    \n",
    "    \n",
    "    return Dataset(\n",
    "        uri=data.resource_name\n",
    "    )\n",
    "    "
   ]
  },
  {
   "cell_type": "markdown",
   "metadata": {},
   "source": [
    "#### Train"
   ]
  },
  {
   "cell_type": "code",
   "execution_count": null,
   "metadata": {},
   "outputs": [],
   "source": [
    "def train():\n",
    "    print(\"training :)\")"
   ]
  },
  {
   "cell_type": "markdown",
   "metadata": {},
   "source": [
    "#### Deploy"
   ]
  },
  {
   "cell_type": "code",
   "execution_count": 31,
   "metadata": {},
   "outputs": [],
   "source": [
    "def deploy():\n",
    "    model = aiplatform.Model.upload(\n",
    "        display_name=\"test_model\",\n",
    "        project=\"pebolas-sandbox\",\n",
    "        location=\"southamerica-east1\",\n",
    "        serving_container_image_uri=\"southamerica-east1-docker.pkg.dev/pebolas-sandbox/sample-model/deploy_model:latest\",\n",
    "        serving_container_predict_route=\"/predict\",\n",
    "        serving_container_health_route=\"/health\"\n",
    "    )\n",
    "    \n",
    "    model.batch_predict(\n",
    "        job_display_name=\"test_batch_predict\",\n",
    "        gcs_source=\"gs://pebolas-sandbox-vertex-staging-southamerica-east1/test.jsonl\",\n",
    "        gcs_destination_prefix=\"gs://pebolas-sandbox-vertex-staging-southamerica-east1/\",\n",
    "        machine_type=\"n1-standard-2\",\n",
    "        sync=True\n",
    "    )"
   ]
  },
  {
   "cell_type": "markdown",
   "metadata": {},
   "source": [
    "### Pipeline"
   ]
  },
  {
   "cell_type": "code",
   "execution_count": 32,
   "metadata": {},
   "outputs": [],
   "source": [
    "@pipeline(\n",
    "    name=config.pipeline.name,\n",
    "    description=config.pipeline.description,\n",
    "    pipeline_root=config.pipeline.root + config.pipeline.name\n",
    ")\n",
    "def titaninc_pipeline(\n",
    "    project_id: str,\n",
    "    dataset_id: str,\n",
    "    table_id: str,\n",
    "    dataset_display_name: str\n",
    "):\n",
    "    fetch_data = fetch_big_data_table(\n",
    "        project_id=project_id, \n",
    "        dataset_id=dataset_id, \n",
    "        table_id=table_id\n",
    "        )\n",
    "    \n",
    "    prepare_data_task = prepare_data(\n",
    "        input_data=fetch_data.output\n",
    "        )\n",
    "    \n",
    "    create_dataset_task = create_dataset(\n",
    "        display_name=dataset_display_name,\n",
    "        dataset=prepare_data_task.outputs[\"dataset_artifact\"]\n",
    "    )"
   ]
  },
  {
   "cell_type": "code",
   "execution_count": 33,
   "metadata": {},
   "outputs": [],
   "source": [
    "aiplatform.init(\n",
    "    project=config.project_id, \n",
    "    location=config.location\n",
    ")"
   ]
  },
  {
   "cell_type": "code",
   "execution_count": 34,
   "metadata": {},
   "outputs": [],
   "source": [
    "compiler.Compiler().compile(\n",
    "    pipeline_func=titaninc_pipeline, \n",
    "    package_path=config.pipeline.package_path\n",
    "    )"
   ]
  },
  {
   "cell_type": "code",
   "execution_count": 35,
   "metadata": {},
   "outputs": [],
   "source": [
    "job = pipeline_jobs.PipelineJob(\n",
    "    display_name=config.pipeline.name,\n",
    "    template_path=config.pipeline.package_path,\n",
    "    parameter_values={\n",
    "        'project_id': config.project_id,\n",
    "        'dataset_id': config.parameters.dataset_id,\n",
    "        'table_id': config.parameters.table_id,\n",
    "        'dataset_display_name': config.parameters.dataset_display_name\n",
    "    }\n",
    ")"
   ]
  },
  {
   "cell_type": "code",
   "execution_count": 36,
   "metadata": {},
   "outputs": [
    {
     "name": "stdout",
     "output_type": "stream",
     "text": [
      "Creating PipelineJob\n",
      "PipelineJob created. Resource name: projects/470842673491/locations/southamerica-east1/pipelineJobs/titanic-pipeline-20241009162220\n",
      "To use this PipelineJob in another session:\n",
      "pipeline_job = aiplatform.PipelineJob.get('projects/470842673491/locations/southamerica-east1/pipelineJobs/titanic-pipeline-20241009162220')\n",
      "View Pipeline Job:\n",
      "https://console.cloud.google.com/vertex-ai/locations/southamerica-east1/pipelines/runs/titanic-pipeline-20241009162220?project=470842673491\n",
      "PipelineJob projects/470842673491/locations/southamerica-east1/pipelineJobs/titanic-pipeline-20241009162220 current state:\n",
      "3\n",
      "PipelineJob projects/470842673491/locations/southamerica-east1/pipelineJobs/titanic-pipeline-20241009162220 current state:\n",
      "3\n",
      "PipelineJob projects/470842673491/locations/southamerica-east1/pipelineJobs/titanic-pipeline-20241009162220 current state:\n",
      "3\n",
      "PipelineJob projects/470842673491/locations/southamerica-east1/pipelineJobs/titanic-pipeline-20241009162220 current state:\n",
      "3\n",
      "PipelineJob run completed. Resource name: projects/470842673491/locations/southamerica-east1/pipelineJobs/titanic-pipeline-20241009162220\n"
     ]
    }
   ],
   "source": [
    "job.run()"
   ]
  },
  {
   "cell_type": "code",
   "execution_count": null,
   "metadata": {},
   "outputs": [],
   "source": []
  }
 ],
 "metadata": {
  "kernelspec": {
   "display_name": "Python 3",
   "language": "python",
   "name": "python3"
  },
  "language_info": {
   "codemirror_mode": {
    "name": "ipython",
    "version": 3
   },
   "file_extension": ".py",
   "mimetype": "text/x-python",
   "name": "python",
   "nbconvert_exporter": "python",
   "pygments_lexer": "ipython3",
   "version": "3.11.10"
  }
 },
 "nbformat": 4,
 "nbformat_minor": 2
}
