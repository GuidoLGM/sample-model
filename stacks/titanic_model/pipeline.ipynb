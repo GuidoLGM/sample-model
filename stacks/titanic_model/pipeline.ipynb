{
 "cells": [
  {
   "cell_type": "markdown",
   "metadata": {},
   "source": [
    "### Load Config File"
   ]
  },
  {
   "cell_type": "code",
   "execution_count": 1,
   "metadata": {},
   "outputs": [],
   "source": [
    "import yaml\n",
    "from box import ConfigBox\n",
    "\n",
    "\n",
    "with open(\"config.yaml\", \"r\") as ymlfile:\n",
    "    config = yaml.safe_load(ymlfile)\n",
    "\n",
    "config = ConfigBox(config)"
   ]
  },
  {
   "cell_type": "markdown",
   "metadata": {},
   "source": [
    "### Imports"
   ]
  },
  {
   "cell_type": "code",
   "execution_count": 2,
   "metadata": {},
   "outputs": [],
   "source": [
    "from google.cloud import aiplatform\n",
    "from google.cloud.aiplatform import TabularDataset\n",
    "from google.cloud.aiplatform import pipeline_jobs\n",
    "\n",
    "from typing import NamedTuple\n",
    "\n",
    "from kfp.dsl import component\n",
    "from kfp.dsl import pipeline\n",
    "from kfp import compiler\n",
    "from kfp.dsl import (Artifact, Model, Dataset, Input, Output, Metrics)\n",
    "from kfp import dsl"
   ]
  },
  {
   "cell_type": "markdown",
   "metadata": {},
   "source": [
    "### Components"
   ]
  },
  {
   "cell_type": "markdown",
   "metadata": {},
   "source": [
    "#### Preprocess"
   ]
  },
  {
   "cell_type": "code",
   "execution_count": 3,
   "metadata": {},
   "outputs": [],
   "source": [
    "@component(\n",
    "    base_image=\"python:3.11-slim\",\n",
    "    packages_to_install=[\n",
    "        config.packages.BIGQUERY, \n",
    "        config.packages.PANDAS,\n",
    "        config.packages.DB_TYPES\n",
    "    ]\n",
    ")\n",
    "def fetch_big_data_table(\n",
    "    project_id: str,\n",
    "    dataset_id: str,\n",
    "    table_id: str,\n",
    "    dataset_artifact: Output[Dataset]\n",
    "):\n",
    "    \n",
    "    from google.cloud import bigquery\n",
    "\n",
    "    client = bigquery.Client(project=project_id)\n",
    "    \n",
    "    query = f\"\"\"\n",
    "        SELECT *\n",
    "        FROM `{project_id}.{dataset_id}.{table_id}`\n",
    "        \"\"\"\n",
    "    \n",
    "    data = client.query(query).to_dataframe()\n",
    "    \n",
    "    data.to_csv(dataset_artifact.path, index=False)\n",
    "    "
   ]
  },
  {
   "cell_type": "code",
   "execution_count": 4,
   "metadata": {},
   "outputs": [],
   "source": [
    "@component(\n",
    "    base_image=\"southamerica-east1-docker.pkg.dev/pebolas-sandbox/sample-model/prepare_data:latest\"\n",
    ")\n",
    "def prepare_data(\n",
    "    input_data: Input[Dataset],\n",
    "    scaler_artifact: Output[Artifact],\n",
    "    dataset_artifact: Output[Dataset]\n",
    "    \n",
    "):\n",
    "    import pickle as pkl\n",
    "    import pandas as pd\n",
    "    from sklearn.preprocessing import StandardScaler\n",
    "    \n",
    "    data = pd.read_csv(input_data.path, index_col=False)\n",
    "    \n",
    "    data.Age = data.Age.fillna(data.Age.mean())\n",
    "\n",
    "    data.Embarked = data.Embarked.fillna(\n",
    "        data.Embarked.mode()[0]\n",
    "    )\n",
    "\n",
    "    data.drop(columns=[\"Cabin\", \"Name\", \"Ticket\"], inplace=True)\n",
    "\n",
    "    data.Sex = data.Sex.map({\"male\": 0, \"female\": 1})\n",
    "\n",
    "    data = pd.get_dummies(\n",
    "        data, columns=[\"Embarked\"], drop_first=True\n",
    "    )\n",
    "    \n",
    "    \n",
    "    scaler = StandardScaler()\n",
    "    \n",
    "    column_to_scale = [\"Age\", \"Fare\"]\n",
    "    data[column_to_scale] = scaler.fit_transform(\n",
    "            data[column_to_scale]\n",
    "        )\n",
    "    \n",
    "    with open(scaler_artifact.path, \"wb\") as f:\n",
    "        pkl.dump(scaler, f)\n",
    "        \n",
    "        \n",
    "    data.to_csv(dataset_artifact.path, index=False)\n",
    "\n",
    "    \n",
    "    "
   ]
  },
  {
   "cell_type": "markdown",
   "metadata": {},
   "source": [
    "### Train"
   ]
  },
  {
   "cell_type": "code",
   "execution_count": 5,
   "metadata": {},
   "outputs": [],
   "source": [
    "@component(\n",
    "    base_image=\"python:3.11-slim\",\n",
    "    packages_to_install=[\n",
    "        config.packages.AIPLATFORM\n",
    "    ]\n",
    ")\n",
    "def train_model(\n",
    "    display_name: str,\n",
    "    train_image_uri: str,\n",
    "    staging_bucket: str,\n",
    "    model_serving_container_image_uri: str,\n",
    "    model_serving_container_health_route: str,\n",
    "    model_serving_container_predict_route: str,\n",
    "    dataset: Input[Dataset]\n",
    "):\n",
    "    from google.cloud import aiplatform\n",
    "    \n",
    "    data = aiplatform.TabularDataset.create(\n",
    "        display_name=display_name,\n",
    "        \n",
    "        gcs_source=dataset.uri\n",
    "    )\n",
    "    \n",
    "    job = aiplatform.CustomContainerTrainingJob(\n",
    "        display_name=display_name+ \"_training\",\n",
    "        container_uri=train_image_uri,\n",
    "        model_serving_container_image_uri= model_serving_container_image_uri,\n",
    "        model_serving_container_health_route= model_serving_container_health_route,\n",
    "        model_serving_container_predict_route= model_serving_container_predict_route,\n",
    "        staging_bucket=staging_bucket\n",
    "    )\n",
    "    \n",
    "    model = job.run(\n",
    "        dataset=data,\n",
    "        machine_type=\"n1-standard-4\",\n",
    "        \n",
    "        args=[\"--max_iter=1000\"]\n",
    "    )\n",
    "    \n",
    "    model.evaluate(\n",
    "        prediction_type=\"regression\",\n",
    "        target_field_name=\"Survived\",\n",
    "        staging_bucket=staging_bucket,\n",
    "        gcs_source_uris=['gs://sample-model-kubeflow-pipeline/titanic-pipeline/staging/aiplatform-custom-training-2024-10-11-18:58:57.367/dataset-867752168826863616-tables-2024-10-11T18:58:58.637536Z/test-*']\n",
    "        \n",
    "    )\n",
    "    return model"
   ]
  },
  {
   "cell_type": "markdown",
   "metadata": {},
   "source": [
    "#### Deploy"
   ]
  },
  {
   "cell_type": "code",
   "execution_count": 6,
   "metadata": {},
   "outputs": [],
   "source": [
    "@component(\n",
    "    base_image=\"python:3.11-slim\",\n",
    "    packages_to_install=[\n",
    "        config.packages.AIPLATFORM\n",
    "    ]\n",
    ")\n",
    "def deploy(\n",
    "):\n",
    "    print(\"deploy :)\")\n",
    "    # model.batch_predict(\n",
    "    #     job_display_name=\"test_batch_predict\",\n",
    "    #     gcs_source=\"gs://pebolas-sandbox-vertex-staging-southamerica-east1/test.jsonl\",\n",
    "    #     gcs_destination_prefix=\"gs://pebolas-sandbox-vertex-staging-southamerica-east1/\",\n",
    "    #     machine_type=\"n1-standard-2\",\n",
    "    #     sync=True\n",
    "    # )"
   ]
  },
  {
   "cell_type": "markdown",
   "metadata": {},
   "source": [
    "### Pipeline"
   ]
  },
  {
   "cell_type": "code",
   "execution_count": 7,
   "metadata": {},
   "outputs": [],
   "source": [
    "@pipeline(\n",
    "    name=config.pipeline.name,\n",
    "    description=config.pipeline.description,\n",
    "    pipeline_root=config.pipeline.root + config.pipeline.name\n",
    ")\n",
    "def titaninc_pipeline(\n",
    "    project_id: str,\n",
    "    dataset_id: str,\n",
    "    table_id: str,\n",
    "    dataset_display_name: str,\n",
    "    train_image_uri: str,\n",
    "    staging_bucket: str,\n",
    "    model_serving_container_image_uri: str,\n",
    "    model_serving_container_health_route: str,\n",
    "    model_serving_container_predict_route: str,\n",
    "    \n",
    "):\n",
    "    fetch_data = fetch_big_data_table(\n",
    "        project_id=project_id, \n",
    "        dataset_id=dataset_id, \n",
    "        table_id=table_id\n",
    "        )\n",
    "    \n",
    "    prepare_data_task = prepare_data(\n",
    "        input_data=fetch_data.output\n",
    "        )\n",
    "    \n",
    "    train_model_task = train_model(\n",
    "        display_name=dataset_display_name,\n",
    "        train_image_uri=train_image_uri,\n",
    "        staging_bucket=staging_bucket,\n",
    "        model_serving_container_image_uri= model_serving_container_image_uri,\n",
    "        model_serving_container_health_route= model_serving_container_health_route,\n",
    "        model_serving_container_predict_route= model_serving_container_predict_route,\n",
    "        dataset=prepare_data_task.outputs[\"dataset_artifact\"]\n",
    "    )\n",
    "    \n",
    "    deploy_task = deploy(\n",
    "    )\n",
    "    "
   ]
  },
  {
   "cell_type": "code",
   "execution_count": 8,
   "metadata": {},
   "outputs": [],
   "source": [
    "aiplatform.init(\n",
    "    project=config.project_id, \n",
    "    location=config.location\n",
    ")"
   ]
  },
  {
   "cell_type": "code",
   "execution_count": 9,
   "metadata": {},
   "outputs": [],
   "source": [
    "compiler.Compiler().compile(\n",
    "    pipeline_func=titaninc_pipeline, \n",
    "    package_path=config.pipeline.package_path\n",
    "    )"
   ]
  },
  {
   "cell_type": "code",
   "execution_count": 10,
   "metadata": {},
   "outputs": [],
   "source": [
    "job = pipeline_jobs.PipelineJob(\n",
    "    display_name=config.pipeline.name,\n",
    "    template_path=config.pipeline.package_path,\n",
    "    parameter_values={\n",
    "        'project_id': config.project_id,\n",
    "        'dataset_id': config.parameters.dataset_id,\n",
    "        'table_id': config.parameters.table_id,\n",
    "        'dataset_display_name': config.parameters.dataset_display_name,\n",
    "        'train_image_uri': config.parameters.train_image_uri,\n",
    "        'staging_bucket': config.parameters.staging_bucket,\n",
    "        'model_serving_container_image_uri': config.parameters.model_serving_container_image_uri,\n",
    "        'model_serving_container_health_route': config.parameters.model_serving_container_health_route,\n",
    "        'model_serving_container_predict_route': config.parameters.model_serving_container_predict_route\n",
    "    }\n",
    ")"
   ]
  },
  {
   "cell_type": "code",
   "execution_count": null,
   "metadata": {},
   "outputs": [
    {
     "name": "stdout",
     "output_type": "stream",
     "text": [
      "Creating PipelineJob\n",
      "PipelineJob created. Resource name: projects/470842673491/locations/southamerica-east1/pipelineJobs/titanic-pipeline-20241011214257\n",
      "To use this PipelineJob in another session:\n",
      "pipeline_job = aiplatform.PipelineJob.get('projects/470842673491/locations/southamerica-east1/pipelineJobs/titanic-pipeline-20241011214257')\n",
      "View Pipeline Job:\n",
      "https://console.cloud.google.com/vertex-ai/locations/southamerica-east1/pipelines/runs/titanic-pipeline-20241011214257?project=470842673491\n",
      "PipelineJob projects/470842673491/locations/southamerica-east1/pipelineJobs/titanic-pipeline-20241011214257 current state:\n",
      "3\n",
      "PipelineJob projects/470842673491/locations/southamerica-east1/pipelineJobs/titanic-pipeline-20241011214257 current state:\n",
      "3\n",
      "PipelineJob projects/470842673491/locations/southamerica-east1/pipelineJobs/titanic-pipeline-20241011214257 current state:\n",
      "3\n",
      "PipelineJob projects/470842673491/locations/southamerica-east1/pipelineJobs/titanic-pipeline-20241011214257 current state:\n",
      "3\n"
     ]
    }
   ],
   "source": [
    "job.run()"
   ]
  },
  {
   "cell_type": "code",
   "execution_count": null,
   "metadata": {},
   "outputs": [],
   "source": []
  }
 ],
 "metadata": {
  "kernelspec": {
   "display_name": "Python 3",
   "language": "python",
   "name": "python3"
  },
  "language_info": {
   "codemirror_mode": {
    "name": "ipython",
    "version": 3
   },
   "file_extension": ".py",
   "mimetype": "text/x-python",
   "name": "python",
   "nbconvert_exporter": "python",
   "pygments_lexer": "ipython3",
   "version": "3.11.10"
  }
 },
 "nbformat": 4,
 "nbformat_minor": 2
}
